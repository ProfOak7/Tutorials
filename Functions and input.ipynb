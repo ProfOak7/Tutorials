{
 "cells": [
  {
   "cell_type": "code",
   "execution_count": 42,
   "id": "a646aa40",
   "metadata": {},
   "outputs": [],
   "source": [
    "dna_sequence = 'ATGACTACGATCAGCTACGATATCTACTACTATCATCTACTACTAGCGACTACTATCTACTACTATCTATCTATTTTTACTATCTAACTACGACTACG'"
   ]
  },
  {
   "cell_type": "code",
   "execution_count": 95,
   "id": "a24a8152",
   "metadata": {
    "scrolled": true
   },
   "outputs": [],
   "source": [
    "def GC_percent(s):\n",
    "    \"\"\"\n",
    "    This is how you create a function. You define the name of the function and indicate what \n",
    "    variable or variables it will be applying the function to (in paranthesis)... You can explain what the function does\n",
    "    by flanking the description with the three quotation marks on each side... Down below thIs description\n",
    "    is the actual code of the function... In this case, this function is going to determine what percentage\n",
    "    of a sequence (defined as s) is composed of G's and C's...\n",
    "    \"\"\"\n",
    "    no_c = s.count('C') #counts the number of c's\n",
    "    no_g = s.count('G') #counts the number of g's\n",
    "    dna_length = len(s) #determines the length of the dna sequence\n",
    "    gc_percent = (no_c + no_g)/dna_length * 100 #calculates the percentage of GC's in the sequence\n",
    "    print('The DNA sequence GC percentage is', gc_percent, '%') #returns the GC percentage\n"
   ]
  },
  {
   "cell_type": "code",
   "execution_count": 96,
   "id": "64263e57",
   "metadata": {},
   "outputs": [
    {
     "name": "stdout",
     "output_type": "stream",
     "text": [
      "The DNA sequence GC percentage is 34.69387755102041 %\n"
     ]
    }
   ],
   "source": [
    "#Now I can call on this function to analyze my dna sequence of interest...\n",
    "GC_percent(dna_sequence)"
   ]
  },
  {
   "cell_type": "code",
   "execution_count": 97,
   "id": "52ed1438",
   "metadata": {},
   "outputs": [
    {
     "data": {
      "text/plain": [
       "'ATATATCTACTATCATCTTTATATATATATATATATATATATATATATCGCTATATATATATATATAT'"
      ]
     },
     "execution_count": 97,
     "metadata": {},
     "output_type": "execute_result"
    }
   ],
   "source": [
    "dna2 = 'ATATATCTACTATCATCTTTATATATATATATATATATATATATATATCGCTATATATATATATATAT'\n",
    "dna2"
   ]
  },
  {
   "cell_type": "code",
   "execution_count": 98,
   "id": "d6e3dbef",
   "metadata": {},
   "outputs": [
    {
     "name": "stdout",
     "output_type": "stream",
     "text": [
      "The DNA sequence GC percentage is 10.294117647058822 %\n"
     ]
    }
   ],
   "source": [
    "#The variable I want analyzed is indicated in between the paranthesis when calling the function\n",
    "GC_percent(dna2) "
   ]
  },
  {
   "cell_type": "code",
   "execution_count": 99,
   "id": "11898750",
   "metadata": {},
   "outputs": [
    {
     "data": {
      "text/plain": [
       "'ATATATCTACTATCATCTTTATATATATATATATATATATATATATATCGCTATATATATATATATATATGACTACGATCAGCTACGATATCTACTACTATCATCTACTACTAGCGACTACTATCTACTACTATCTATCTATTTTTACTATCTAACTACGACTACG'"
      ]
     },
     "execution_count": 99,
     "metadata": {},
     "output_type": "execute_result"
    }
   ],
   "source": [
    "#The variable I want analyzed is indicated in between the paranthesis when calling the function\n",
    "s = dna2 + dna_sequence\n",
    "s"
   ]
  },
  {
   "cell_type": "code",
   "execution_count": 100,
   "id": "18ae181c",
   "metadata": {},
   "outputs": [
    {
     "name": "stdout",
     "output_type": "stream",
     "text": [
      "The DNA sequence GC percentage is 24.69879518072289 %\n"
     ]
    }
   ],
   "source": [
    "GC_percent(s)"
   ]
  },
  {
   "cell_type": "code",
   "execution_count": 101,
   "id": "615c0b8a",
   "metadata": {},
   "outputs": [
    {
     "name": "stdout",
     "output_type": "stream",
     "text": [
      "Enter your DNA sequence in all capital letters please: \n"
     ]
    }
   ],
   "source": [
    "#You can input a string into a variable (have someone input a string and assign it to a variable by using the input command)\n",
    "yourdna=input('Enter your DNA sequence in all capital letters please: ')"
   ]
  },
  {
   "cell_type": "code",
   "execution_count": 90,
   "id": "91e14786",
   "metadata": {
    "scrolled": true
   },
   "outputs": [
    {
     "name": "stdout",
     "output_type": "stream",
     "text": [
      "The DNA sequence GC percentage is 50.0 %\n"
     ]
    }
   ],
   "source": [
    "GC_percent(yourdna)"
   ]
  },
  {
   "cell_type": "code",
   "execution_count": null,
   "id": "41b218be",
   "metadata": {},
   "outputs": [],
   "source": []
  }
 ],
 "metadata": {
  "kernelspec": {
   "display_name": "Python 3 (ipykernel)",
   "language": "python",
   "name": "python3"
  },
  "language_info": {
   "codemirror_mode": {
    "name": "ipython",
    "version": 3
   },
   "file_extension": ".py",
   "mimetype": "text/x-python",
   "name": "python",
   "nbconvert_exporter": "python",
   "pygments_lexer": "ipython3",
   "version": "3.9.7"
  }
 },
 "nbformat": 4,
 "nbformat_minor": 5
}
