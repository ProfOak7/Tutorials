{
 "cells": [
  {
   "cell_type": "code",
   "execution_count": 173,
   "id": "25edd9eb",
   "metadata": {},
   "outputs": [],
   "source": [
    "#A list is an ordered set of value:\n",
    "\n",
    "list = ['gene', 0.00048764, 6.02e23, 1938629]"
   ]
  },
  {
   "cell_type": "code",
   "execution_count": 174,
   "id": "6233d659",
   "metadata": {},
   "outputs": [
    {
     "data": {
      "text/plain": [
       "['gene', 0.00048764, 6.02e+23, 1938629]"
      ]
     },
     "execution_count": 174,
     "metadata": {},
     "output_type": "execute_result"
    }
   ],
   "source": [
    "list"
   ]
  },
  {
   "cell_type": "code",
   "execution_count": 175,
   "id": "00a9d900",
   "metadata": {},
   "outputs": [
    {
     "name": "stdout",
     "output_type": "stream",
     "text": [
      "6.02e+23\n"
     ]
    }
   ],
   "source": [
    "#You can access and print different elemnts of the list (remember the first element is 0 position)\n",
    "print(list[2])"
   ]
  },
  {
   "cell_type": "code",
   "execution_count": 176,
   "id": "b1ea0d30",
   "metadata": {},
   "outputs": [
    {
     "name": "stdout",
     "output_type": "stream",
     "text": [
      "gene\n"
     ]
    }
   ],
   "source": [
    "#Remember you can also use the negative numbers to work backwards from the end)\n",
    "print(list[-4])"
   ]
  },
  {
   "cell_type": "code",
   "execution_count": 177,
   "id": "d0753b00",
   "metadata": {},
   "outputs": [
    {
     "data": {
      "text/plain": [
       "['gene', 0.00048764, 6.02e+23, 1938629]"
      ]
     },
     "execution_count": 177,
     "metadata": {},
     "output_type": "execute_result"
    }
   ],
   "source": [
    "list"
   ]
  },
  {
   "cell_type": "code",
   "execution_count": 178,
   "id": "b2b3309d",
   "metadata": {},
   "outputs": [
    {
     "data": {
      "text/plain": [
       "['gene', 0.00048764, 7717, 1938629]"
      ]
     },
     "execution_count": 178,
     "metadata": {},
     "output_type": "execute_result"
    }
   ],
   "source": [
    "#You can change individual list elements\n",
    "list[2] = 7717\n",
    "list"
   ]
  },
  {
   "cell_type": "code",
   "execution_count": 179,
   "id": "61b1891d",
   "metadata": {},
   "outputs": [
    {
     "data": {
      "text/plain": [
       "['change', 0.00048764, 7717, 1938629]"
      ]
     },
     "execution_count": 179,
     "metadata": {},
     "output_type": "execute_result"
    }
   ],
   "source": [
    "#You can change individual list elements but don't change the element type!\n",
    "list[0] = 'change'\n",
    "list"
   ]
  },
  {
   "cell_type": "code",
   "execution_count": 180,
   "id": "b8d7ea4a",
   "metadata": {},
   "outputs": [],
   "source": [
    "#You can concatenate lists\n",
    "list2 = ['hi there', 1320873, 'together we code']"
   ]
  },
  {
   "cell_type": "code",
   "execution_count": 181,
   "id": "d71c6430",
   "metadata": {},
   "outputs": [
    {
     "data": {
      "text/plain": [
       "['change', 0.00048764, 7717, 1938629, 'hi there', 1320873, 'together we code']"
      ]
     },
     "execution_count": 181,
     "metadata": {},
     "output_type": "execute_result"
    }
   ],
   "source": [
    "list3 = list + list2\n",
    "list3"
   ]
  },
  {
   "cell_type": "code",
   "execution_count": 182,
   "id": "bb6bf116",
   "metadata": {},
   "outputs": [
    {
     "data": {
      "text/plain": [
       "['change', 0, 1938629, 'hi there', 1320873, 'together we code']"
      ]
     },
     "execution_count": 182,
     "metadata": {},
     "output_type": "execute_result"
    }
   ],
   "source": [
    "#You can slice a list (replace multiple elements with 1 element)\n",
    "list3[1:3] = [0]\n",
    "list3"
   ]
  },
  {
   "cell_type": "code",
   "execution_count": 183,
   "id": "5ae92c2b",
   "metadata": {},
   "outputs": [
    {
     "data": {
      "text/plain": [
       "['change', 1938629, 'hi there', 1320873, 'together we code']"
      ]
     },
     "execution_count": 183,
     "metadata": {},
     "output_type": "execute_result"
    }
   ],
   "source": [
    "#You can delete a list element\n",
    "del list3[1]\n",
    "list3"
   ]
  },
  {
   "cell_type": "code",
   "execution_count": 184,
   "id": "02944d2b",
   "metadata": {},
   "outputs": [
    {
     "data": {
      "text/plain": [
       "5"
      ]
     },
     "execution_count": 184,
     "metadata": {},
     "output_type": "execute_result"
    }
   ],
   "source": [
    "#You can use the len() function with lists\n",
    "len(list3)"
   ]
  },
  {
   "cell_type": "code",
   "execution_count": 185,
   "id": "20ecc1ce",
   "metadata": {
    "scrolled": true
   },
   "outputs": [
    {
     "data": {
      "text/plain": [
       "10"
      ]
     },
     "execution_count": 185,
     "metadata": {},
     "output_type": "execute_result"
    }
   ],
   "source": [
    "list4 = list3*2\n",
    "len(list4)"
   ]
  },
  {
   "cell_type": "code",
   "execution_count": 186,
   "id": "e6abb5e5",
   "metadata": {},
   "outputs": [
    {
     "data": {
      "text/plain": [
       "['change',\n",
       " 1938629,\n",
       " 'hi there',\n",
       " 1320873,\n",
       " 'together we code',\n",
       " 'change',\n",
       " 1938629,\n",
       " 'hi there',\n",
       " 1320873,\n",
       " 'together we code']"
      ]
     },
     "execution_count": 186,
     "metadata": {},
     "output_type": "execute_result"
    }
   ],
   "source": [
    "list4"
   ]
  },
  {
   "cell_type": "code",
   "execution_count": 187,
   "id": "7a31233e",
   "metadata": {},
   "outputs": [
    {
     "data": {
      "text/plain": [
       "2"
      ]
     },
     "execution_count": 187,
     "metadata": {},
     "output_type": "execute_result"
    }
   ],
   "source": [
    "#You can count how many times an element appears in a list\n",
    "togetherwecode_count = list4.count('together we code')\n",
    "togetherwecode_count"
   ]
  },
  {
   "cell_type": "code",
   "execution_count": 188,
   "id": "f231b3da",
   "metadata": {
    "scrolled": true
   },
   "outputs": [
    {
     "data": {
      "text/plain": [
       "['change',\n",
       " 1938629,\n",
       " 'hi there',\n",
       " 1320873,\n",
       " 'together we code',\n",
       " 'change',\n",
       " 1938629,\n",
       " 'hi there',\n",
       " 1320873,\n",
       " 'together we code',\n",
       " 'e']"
      ]
     },
     "execution_count": 188,
     "metadata": {},
     "output_type": "execute_result"
    }
   ],
   "source": [
    "#You can append a list (add an element to the end)\n",
    "list4.append('e')\n",
    "list4"
   ]
  },
  {
   "cell_type": "code",
   "execution_count": 189,
   "id": "b643d026",
   "metadata": {
    "scrolled": true
   },
   "outputs": [
    {
     "data": {
      "text/plain": [
       "['change',\n",
       " 1938629,\n",
       " 'hi there',\n",
       " 1320873,\n",
       " 'together we code',\n",
       " 'change',\n",
       " 1938629,\n",
       " 'hi there',\n",
       " 1320873,\n",
       " 'together we code',\n",
       " 'e',\n",
       " 'howdy']"
      ]
     },
     "execution_count": 189,
     "metadata": {},
     "output_type": "execute_result"
    }
   ],
   "source": [
    "#You can append a list (add an element to the end)\n",
    "list4.append('howdy')\n",
    "list4"
   ]
  },
  {
   "cell_type": "code",
   "execution_count": 190,
   "id": "54826e71",
   "metadata": {},
   "outputs": [
    {
     "data": {
      "text/plain": [
       "['howdy',\n",
       " 'e',\n",
       " 'together we code',\n",
       " 1320873,\n",
       " 'hi there',\n",
       " 1938629,\n",
       " 'change',\n",
       " 'together we code',\n",
       " 1320873,\n",
       " 'hi there',\n",
       " 1938629,\n",
       " 'change']"
      ]
     },
     "execution_count": 190,
     "metadata": {},
     "output_type": "execute_result"
    }
   ],
   "source": [
    "#You can reverse a list\n",
    "list4.reverse()\n",
    "list4"
   ]
  },
  {
   "cell_type": "code",
   "execution_count": 193,
   "id": "98ad2b78",
   "metadata": {},
   "outputs": [
    {
     "data": {
      "text/plain": [
       "[1, 2, 3, 5, 6, 9, 99]"
      ]
     },
     "execution_count": 193,
     "metadata": {},
     "output_type": "execute_result"
    }
   ],
   "source": [
    "#if the elements are all the same type, you can sort them as well\n",
    "list5 = [1, 2, 3, 5, 6, 9, 99]\n",
    "list5"
   ]
  },
  {
   "cell_type": "code",
   "execution_count": 195,
   "id": "652634db",
   "metadata": {},
   "outputs": [
    {
     "data": {
      "text/plain": [
       "[1, 2, 3, 5, 6, 9, 99]"
      ]
     },
     "execution_count": 195,
     "metadata": {},
     "output_type": "execute_result"
    }
   ],
   "source": [
    "#if the elements are all the same type, you can sort them as well\n",
    "list5.sort()\n",
    "list5"
   ]
  },
  {
   "cell_type": "code",
   "execution_count": 196,
   "id": "a9b4c46e",
   "metadata": {},
   "outputs": [
    {
     "data": {
      "text/plain": [
       "['a, b, c, d, g, tdsg, sdljhsd, asjfh, ATCGT']"
      ]
     },
     "execution_count": 196,
     "metadata": {},
     "output_type": "execute_result"
    }
   ],
   "source": [
    "#if the elements are all the same type, you can sort them as well\n",
    "list6 = ['a, b, c, d, g, tdsg, sdljhsd, asjfh, ATCGT']\n",
    "list6"
   ]
  },
  {
   "cell_type": "code",
   "execution_count": 198,
   "id": "e76bf070",
   "metadata": {},
   "outputs": [
    {
     "data": {
      "text/plain": [
       "['a, b, c, d, g, tdsg, sdljhsd, asjfh, ATCGT']"
      ]
     },
     "execution_count": 198,
     "metadata": {},
     "output_type": "execute_result"
    }
   ],
   "source": [
    "#if the elements are all the same type, you can sort them as well\n",
    "list6.sort()\n",
    "list6"
   ]
  }
 ],
 "metadata": {
  "kernelspec": {
   "display_name": "Python 3 (ipykernel)",
   "language": "python",
   "name": "python3"
  },
  "language_info": {
   "codemirror_mode": {
    "name": "ipython",
    "version": 3
   },
   "file_extension": ".py",
   "mimetype": "text/x-python",
   "name": "python",
   "nbconvert_exporter": "python",
   "pygments_lexer": "ipython3",
   "version": "3.9.7"
  }
 },
 "nbformat": 4,
 "nbformat_minor": 5
}
