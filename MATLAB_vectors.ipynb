{
 "cells": [
  {
   "cell_type": "markdown",
   "id": "dc63f470-5087-4afb-bbe6-c175a6f03bf8",
   "metadata": {},
   "source": [
    "## Row and Column Vectors"
   ]
  },
  {
   "cell_type": "code",
   "execution_count": 4,
   "id": "e677be0d-99fe-466f-8242-4d60f3545215",
   "metadata": {},
   "outputs": [
    {
     "name": "stdout",
     "output_type": "stream",
     "text": [
      "\n",
      "x =\n",
      "\n",
      "    -2    -1     0     1     2\n",
      "\n",
      "\n"
     ]
    }
   ],
   "source": [
    "%row vector\n",
    "x = [-2, -1, 0, 1, 2]"
   ]
  },
  {
   "cell_type": "code",
   "execution_count": 5,
   "id": "908a2b7a-9c0d-47e7-85f4-6bdf17403e03",
   "metadata": {
    "scrolled": true
   },
   "outputs": [
    {
     "name": "stdout",
     "output_type": "stream",
     "text": [
      "\n",
      "y =\n",
      "\n",
      "    -2\n",
      "    -1\n",
      "     0\n",
      "     1\n",
      "     2\n",
      "\n",
      "\n"
     ]
    }
   ],
   "source": [
    "%colunmn vector\n",
    "y = [-2; -1; 0; 1; 2]"
   ]
  },
  {
   "cell_type": "code",
   "execution_count": 13,
   "id": "aa68a113-6daf-4cc7-a767-1cd8b3b9550e",
   "metadata": {},
   "outputs": [
    {
     "name": "stdout",
     "output_type": "stream",
     "text": [
      "\n",
      "y =\n",
      "\n",
      "     2     5    10    35   100\n",
      "\n",
      "\n"
     ]
    }
   ],
   "source": [
    "%also making y a row vector so that I can plot them\n",
    "y = [2, 5, 10, 35, 100]"
   ]
  },
  {
   "cell_type": "code",
   "execution_count": 18,
   "id": "946a21b4-0fe8-43d9-a38d-586f9bb7ffb1",
   "metadata": {},
   "outputs": [
    {
     "name": "stdout",
     "output_type": "stream",
     "text": [
      "\n"
     ]
    },
    {
     "data": {
      "image/png": "[encoded data removed]",
      "text/plain": [
       "<IPython.core.display.Image object>"
      ]
     },
     "metadata": {},
     "output_type": "display_data"
    }
   ],
   "source": [
    "plot(x,y)"
   ]
  },
  {
   "cell_type": "markdown",
   "id": "6734b03e-c420-416a-997b-f4aa11cacf4e",
   "metadata": {},
   "source": [
    "## Using the : Operator"
   ]
  },
  {
   "cell_type": "markdown",
   "id": "df258cf7-8a59-4a11-8ab5-8d11e882e3cc",
   "metadata": {},
   "source": [
    "#### Format is:\n",
    "Start value : spacing : end value;"
   ]
  },
  {
   "cell_type": "code",
   "execution_count": 23,
   "id": "f8f7cd40-b926-4a47-af02-f402450adcdf",
   "metadata": {},
   "outputs": [
    {
     "name": "stdout",
     "output_type": "stream",
     "text": [
      "\n",
      "x =\n",
      "\n",
      "   -2.0000   -1.5000   -1.0000   -0.5000         0    0.5000    1.0000    1.5000    2.0000\n",
      "\n",
      "\n"
     ]
    }
   ],
   "source": [
    "x = -2: 0.5: 2;\n",
    "x"
   ]
  },
  {
   "cell_type": "markdown",
   "id": "9256040a-ec5d-4e68-8224-b823db5f3b29",
   "metadata": {},
   "source": [
    "#### If spacing is not defined, it is automatically set to 1"
   ]
  },
  {
   "cell_type": "code",
   "execution_count": 28,
   "id": "554718f2-57f4-4622-b737-8880bc8db2ae",
   "metadata": {},
   "outputs": [
    {
     "name": "stdout",
     "output_type": "stream",
     "text": [
      "\n",
      "x =\n",
      "\n",
      "   -10    -9    -8    -7    -6    -5    -4    -3    -2    -1     0     1     2     3     4     5     6     7     8     9    10\n",
      "\n",
      "\n"
     ]
    }
   ],
   "source": [
    "x = -10:10;\n",
    "x"
   ]
  },
  {
   "cell_type": "markdown",
   "id": "8ea16fe4-6fd6-45b6-9422-74d60330515c",
   "metadata": {},
   "source": [
    "#### for a column vector add paranthesis and a hyphen"
   ]
  },
  {
   "cell_type": "code",
   "execution_count": 36,
   "id": "e09ee409-7261-4595-be7e-21c5789c8536",
   "metadata": {},
   "outputs": [
    {
     "name": "stdout",
     "output_type": "stream",
     "text": [
      "\n",
      "y =\n",
      "\n",
      "    -2\n",
      "    -1\n",
      "     0\n",
      "     1\n",
      "     2\n",
      "\n",
      "\n"
     ]
    }
   ],
   "source": [
    "y = (-2:2)';\n",
    "y"
   ]
  },
  {
   "cell_type": "code",
   "execution_count": 35,
   "id": "5b1eed94-d10b-42cb-886d-894918ff3540",
   "metadata": {},
   "outputs": [
    {
     "name": "stdout",
     "output_type": "stream",
     "text": [
      "\n",
      "y =\n",
      "\n",
      "   -5.0000\n",
      "   -4.5000\n",
      "   -4.0000\n",
      "   -3.5000\n",
      "   -3.0000\n",
      "   -2.5000\n",
      "   -2.0000\n",
      "   -1.5000\n",
      "   -1.0000\n",
      "   -0.5000\n",
      "         0\n",
      "    0.5000\n",
      "    1.0000\n",
      "\n",
      "\n"
     ]
    }
   ],
   "source": [
    "y = (-5:0.5:1)';\n",
    "y"
   ]
  },
  {
   "cell_type": "code",
   "execution_count": null,
   "id": "7ddecc40-94f9-4743-ad29-0b9bdf2d7bdc",
   "metadata": {},
   "outputs": [],
   "source": []
  }
 ],
 "metadata": {
  "kernelspec": {
   "display_name": "Matlab",
   "language": "matlab",
   "name": "matlab"
  },
  "language_info": {
   "codemirror_mode": "octave",
   "file_extension": ".m",
   "help_links": [
    {
     "text": "MetaKernel Magics",
     "url": "https://metakernel.readthedocs.io/en/latest/source/README.html"
    }
   ],
   "mimetype": "text/x-octave",
   "name": "matlab",
   "version": "0.17.1"
  }
 },
 "nbformat": 4,
 "nbformat_minor": 5
}
