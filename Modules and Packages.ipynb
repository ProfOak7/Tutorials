{
 "cells": [
  {
   "cell_type": "markdown",
   "id": "e7f434e6",
   "metadata": {},
   "source": [
    "## Modules"
   ]
  },
  {
   "cell_type": "markdown",
   "id": "1d444db3",
   "metadata": {},
   "source": [
    "#### Modules in Python are simply files that end in .py"
   ]
  },
  {
   "cell_type": "markdown",
   "id": "3535666c",
   "metadata": {},
   "source": [
    "You can use a basic text editor (not work, use something like notepad) to create the file. To create your first module, open up notepad and write the followin (taken from pythonlikeyourmeanit.com - https://www.pythonlikeyoumeanit.com/Module5_OddsAndEnds/Modules_and_Packages.html):"
   ]
  },
  {
   "cell_type": "code",
   "execution_count": null,
   "id": "60519e90",
   "metadata": {},
   "outputs": [],
   "source": [
    "\"\"\"\n",
    "Our first Python module. This initial string is a module-level documentation string.\n",
    "It is not a necessary component of the module. It is a useful way to describe the\n",
    "purpose of your module.\n",
    "\"\"\"\n",
    "\n",
    "print(\"I am being executed!\")\n",
    "\n",
    "some_list = [\"a\", 1, None]\n",
    "\n",
    "def square(x):\n",
    "    return x ** 2\n",
    "\n",
    "def cube(x):\n",
    "    return x ** 3"
   ]
  },
  {
   "cell_type": "markdown",
   "id": "f08bffe0",
   "metadata": {},
   "source": [
    "If you have saved this notebook file as my_module.py in your home directory, you can now call it using Jupyter notebook"
   ]
  },
  {
   "cell_type": "code",
   "execution_count": 1,
   "id": "c302714f",
   "metadata": {},
   "outputs": [
    {
     "name": "stdout",
     "output_type": "stream",
     "text": [
      "I am being executed!\n"
     ]
    }
   ],
   "source": [
    "import my_module"
   ]
  },
  {
   "cell_type": "code",
   "execution_count": 3,
   "id": "87336aeb",
   "metadata": {
    "scrolled": true
   },
   "outputs": [
    {
     "ename": "NameError",
     "evalue": "name 'square' is not defined",
     "output_type": "error",
     "traceback": [
      "\u001b[1;31m---------------------------------------------------------------------------\u001b[0m",
      "\u001b[1;31mNameError\u001b[0m                                 Traceback (most recent call last)",
      "\u001b[1;32m~\\AppData\\Local\\Temp/ipykernel_28632/3329074756.py\u001b[0m in \u001b[0;36m<module>\u001b[1;34m\u001b[0m\n\u001b[1;32m----> 1\u001b[1;33m \u001b[0msquare\u001b[0m\u001b[1;33m(\u001b[0m\u001b[1;36m20\u001b[0m\u001b[1;33m)\u001b[0m \u001b[1;31m#If you import a module this way, calling the function like this won't work\u001b[0m\u001b[1;33m\u001b[0m\u001b[1;33m\u001b[0m\u001b[0m\n\u001b[0m",
      "\u001b[1;31mNameError\u001b[0m: name 'square' is not defined"
     ]
    }
   ],
   "source": [
    "square(20) #If you import a module this way, calling the function like this won't work"
   ]
  },
  {
   "cell_type": "code",
   "execution_count": 5,
   "id": "65747f14",
   "metadata": {},
   "outputs": [
    {
     "data": {
      "text/plain": [
       "400"
      ]
     },
     "execution_count": 5,
     "metadata": {},
     "output_type": "execute_result"
    }
   ],
   "source": [
    "my_module.square(20) #you can also call the functions this way though..."
   ]
  },
  {
   "cell_type": "code",
   "execution_count": 6,
   "id": "b40db342",
   "metadata": {},
   "outputs": [],
   "source": [
    "from my_module import * #this will import all of the functions from the module"
   ]
  },
  {
   "cell_type": "code",
   "execution_count": 10,
   "id": "d997370a",
   "metadata": {},
   "outputs": [
    {
     "data": {
      "text/plain": [
       "400"
      ]
     },
     "execution_count": 10,
     "metadata": {},
     "output_type": "execute_result"
    }
   ],
   "source": [
    "square(20) #since all the functions were imported, can just type function"
   ]
  },
  {
   "cell_type": "code",
   "execution_count": 11,
   "id": "9647fb04",
   "metadata": {
    "scrolled": true
   },
   "outputs": [
    {
     "data": {
      "text/plain": [
       "module"
      ]
     },
     "execution_count": 11,
     "metadata": {},
     "output_type": "execute_result"
    }
   ],
   "source": [
    "type(my_module)"
   ]
  },
  {
   "cell_type": "code",
   "execution_count": 12,
   "id": "fe82589d",
   "metadata": {},
   "outputs": [],
   "source": [
    "import sys"
   ]
  },
  {
   "cell_type": "code",
   "execution_count": 13,
   "id": "af8556f0",
   "metadata": {},
   "outputs": [
    {
     "data": {
      "text/plain": [
       "['C:\\\\Users\\\\jonat\\\\OneDrive\\\\Documents\\\\sequences',\n",
       " 'C:\\\\Users\\\\jonat\\\\miniconda3\\\\envs\\\\bots\\\\python39.zip',\n",
       " 'C:\\\\Users\\\\jonat\\\\miniconda3\\\\envs\\\\bots\\\\DLLs',\n",
       " 'C:\\\\Users\\\\jonat\\\\miniconda3\\\\envs\\\\bots\\\\lib',\n",
       " 'C:\\\\Users\\\\jonat\\\\miniconda3\\\\envs\\\\bots',\n",
       " '',\n",
       " 'C:\\\\Users\\\\jonat\\\\miniconda3\\\\envs\\\\bots\\\\lib\\\\site-packages',\n",
       " 'C:\\\\Users\\\\jonat\\\\miniconda3\\\\envs\\\\bots\\\\lib\\\\site-packages\\\\locket-0.2.1-py3.9.egg',\n",
       " 'C:\\\\Users\\\\jonat\\\\miniconda3\\\\envs\\\\bots\\\\lib\\\\site-packages\\\\win32',\n",
       " 'C:\\\\Users\\\\jonat\\\\miniconda3\\\\envs\\\\bots\\\\lib\\\\site-packages\\\\win32\\\\lib',\n",
       " 'C:\\\\Users\\\\jonat\\\\miniconda3\\\\envs\\\\bots\\\\lib\\\\site-packages\\\\Pythonwin',\n",
       " 'C:\\\\Users\\\\jonat\\\\miniconda3\\\\envs\\\\bots\\\\lib\\\\site-packages\\\\IPython\\\\extensions',\n",
       " 'C:\\\\Users\\\\jonat\\\\.ipython']"
      ]
     },
     "execution_count": 13,
     "metadata": {},
     "output_type": "execute_result"
    }
   ],
   "source": [
    "sys.path #this will tell you all of the directories where python looks for files when importing..."
   ]
  }
 ],
 "metadata": {
  "kernelspec": {
   "display_name": "Python 3 (ipykernel)",
   "language": "python",
   "name": "python3"
  },
  "language_info": {
   "codemirror_mode": {
    "name": "ipython",
    "version": 3
   },
   "file_extension": ".py",
   "mimetype": "text/x-python",
   "name": "python",
   "nbconvert_exporter": "python",
   "pygments_lexer": "ipython3",
   "version": "3.9.7"
  }
 },
 "nbformat": 4,
 "nbformat_minor": 5
}
