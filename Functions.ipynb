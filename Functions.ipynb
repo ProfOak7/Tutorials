{
 "cells": [
  {
   "cell_type": "code",
   "execution_count": 42,
   "id": "aecde8e0",
   "metadata": {},
   "outputs": [],
   "source": [
    "dna_sequence = 'ATGACTACGATCAGCTACGATATCTACTACTATCATCTACTACTAGCGACTACTATCTACTACTATCTATCTATTTTTACTATCTAACTACGACTACG'"
   ]
  },
  {
   "cell_type": "code",
   "execution_count": 60,
   "id": "b8447e0b",
   "metadata": {
    "scrolled": true
   },
   "outputs": [],
   "source": [
    "def GC_percent(s):\n",
    "    \"\"\"\n",
    "    This is how you create a function. You define the name of the function and indicate what \n",
    "    variable or variables it will be applying the function to (in paranthesis)... You can explain what the function does\n",
    "    by flanking the description with the three quotation marks on each side... Down below thIs description\n",
    "    is the actual code of the function... In this case, this function is going to determine what percentage\n",
    "    of a sequence (defined as s) is composed of G's and C's...\n",
    "    \"\"\"\n",
    "    no_c = s.count('C') #counts the number of c's\n",
    "    no_g = s.count('G') #counts the number of g's\n",
    "    dna_length = len(s) #determines the length of the dna sequence\n",
    "    gc_percent = (no_c + no_g)/dna_length * 100 #calculates the percentage of GC's in the sequence\n",
    "    print('The GC percentage is', gc_percent, '%') #returns the GC percentage"
   ]
  },
  {
   "cell_type": "code",
   "execution_count": 61,
   "id": "bf27fd22",
   "metadata": {},
   "outputs": [
    {
     "name": "stdout",
     "output_type": "stream",
     "text": [
      "The GC percentage is 34.69387755102041 %\n"
     ]
    }
   ],
   "source": [
    "#Now I can call on this function to analyze my dna sequence of interest...\n",
    "GC_percent(dna_sequence)"
   ]
  },
  {
   "cell_type": "code",
   "execution_count": 66,
   "id": "d7d8d2aa",
   "metadata": {},
   "outputs": [
    {
     "data": {
      "text/plain": [
       "'ATATATCTACTATCATCTTTATATATATATATATATATATATATATATCGCTATATATATATATATAT'"
      ]
     },
     "execution_count": 66,
     "metadata": {},
     "output_type": "execute_result"
    }
   ],
   "source": [
    "dna2 = 'ATATATCTACTATCATCTTTATATATATATATATATATATATATATATCGCTATATATATATATATAT'\n",
    "dna2"
   ]
  },
  {
   "cell_type": "code",
   "execution_count": 68,
   "id": "f1a89840",
   "metadata": {},
   "outputs": [
    {
     "name": "stdout",
     "output_type": "stream",
     "text": [
      "The GC percentage is 10.294117647058822 %\n"
     ]
    }
   ],
   "source": [
    "#The variable I want analyzed is indicated in between the paranthesis when calling the function\n",
    "GC_percent(dna2) "
   ]
  },
  {
   "cell_type": "code",
   "execution_count": 71,
   "id": "8e360b72",
   "metadata": {},
   "outputs": [
    {
     "data": {
      "text/plain": [
       "'ATATATCTACTATCATCTTTATATATATATATATATATATATATATATCGCTATATATATATATATATATGACTACGATCAGCTACGATATCTACTACTATCATCTACTACTAGCGACTACTATCTACTACTATCTATCTATTTTTACTATCTAACTACGACTACG'"
      ]
     },
     "execution_count": 71,
     "metadata": {},
     "output_type": "execute_result"
    }
   ],
   "source": [
    "#The variable I want analyzed is indicated in between the paranthesis when calling the function\n",
    "s = dna2 + dna_sequence\n",
    "s"
   ]
  },
  {
   "cell_type": "code",
   "execution_count": 72,
   "id": "0a60c303",
   "metadata": {},
   "outputs": [
    {
     "name": "stdout",
     "output_type": "stream",
     "text": [
      "The GC percentage is 24.69879518072289 %\n"
     ]
    }
   ],
   "source": [
    "GC_percent(s)"
   ]
  }
 ],
 "metadata": {
  "kernelspec": {
   "display_name": "Python 3 (ipykernel)",
   "language": "python",
   "name": "python3"
  },
  "language_info": {
   "codemirror_mode": {
    "name": "ipython",
    "version": 3
   },
   "file_extension": ".py",
   "mimetype": "text/x-python",
   "name": "python",
   "nbconvert_exporter": "python",
   "pygments_lexer": "ipython3",
   "version": "3.9.7"
  }
 },
 "nbformat": 4,
 "nbformat_minor": 5
}
