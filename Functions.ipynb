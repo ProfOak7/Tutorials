{
 "cells": [
  {
   "cell_type": "markdown",
   "id": "d625125a",
   "metadata": {},
   "source": [
    "## Why create functions?\n",
    "****Resusability!!\n",
    "\n",
    "Some useful functions:\n",
    "Computing the GC percentage in a DNA sequence\n",
    "\n",
    "Checking if a DNA sequence has an in frame stop codon\n",
    "\n",
    "A function to reverse complement a DNA Sequence\n"
   ]
  },
  {
   "cell_type": "markdown",
   "id": "38f1f099",
   "metadata": {},
   "source": [
    "## Function general syntax:\n",
    "    \n",
    "def function_name(input arguments):\n",
    "    \n",
    "    \"string documenting the function\"\n",
    "    \n",
    "    function_code_block\n",
    "    \n",
    "    return output\n",
    "    "
   ]
  },
  {
   "cell_type": "markdown",
   "id": "6c508d10",
   "metadata": {},
   "source": [
    "### Example: "
   ]
  },
  {
   "cell_type": "code",
   "execution_count": 1,
   "id": "a758510b",
   "metadata": {},
   "outputs": [],
   "source": [
    "def gc(dna):\n",
    "    \"This function computes the GC percentage of a dna sequence\"\n",
    "    \n",
    "    nbases=dna.count('n') + dna.count('N')\n",
    "    \n",
    "    gcpercent=float(dna.count('c')+dna.count('C')+dna.count('g')+dna.count('G'))*100.0/(len(dna)-nbases)\n",
    "    \n",
    "    return gcpercent                                             "
   ]
  },
  {
   "cell_type": "code",
   "execution_count": 2,
   "id": "3590d243",
   "metadata": {},
   "outputs": [
    {
     "data": {
      "text/plain": [
       "47.82608695652174"
      ]
     },
     "execution_count": 2,
     "metadata": {},
     "output_type": "execute_result"
    }
   ],
   "source": [
    "gc('ATCAGCTACGACTAGCATCGACT')"
   ]
  },
  {
   "cell_type": "markdown",
   "id": "96f3b0b2",
   "metadata": {},
   "source": [
    "#### You can also use the input command to collect a dna sequence and assign it to the variable dna"
   ]
  },
  {
   "cell_type": "code",
   "execution_count": 3,
   "id": "062e18e8",
   "metadata": {},
   "outputs": [
    {
     "name": "stdout",
     "output_type": "stream",
     "text": [
      "Enter DNA sequence: ACTAGCATCGACTACG\n"
     ]
    }
   ],
   "source": [
    "dna=input('Enter DNA sequence: ')"
   ]
  },
  {
   "cell_type": "code",
   "execution_count": 4,
   "id": "98dc0bab",
   "metadata": {},
   "outputs": [
    {
     "data": {
      "text/plain": [
       "50.0"
      ]
     },
     "execution_count": 4,
     "metadata": {},
     "output_type": "execute_result"
    }
   ],
   "source": [
    "gc(dna)"
   ]
  },
  {
   "cell_type": "markdown",
   "id": "2e26f73d",
   "metadata": {},
   "source": [
    "### 2nd Example"
   ]
  },
  {
   "cell_type": "markdown",
   "id": "9cbad78e",
   "metadata": {},
   "source": [
    "Problem: Write a program that checks if a given DNA sequence contains an in-frame stop codon"
   ]
  },
  {
   "cell_type": "code",
   "execution_count": 5,
   "id": "70c3250c",
   "metadata": {},
   "outputs": [
    {
     "name": "stdout",
     "output_type": "stream",
     "text": [
      "Enter DNA sequence: ATCAGCTACGATC\n"
     ]
    }
   ],
   "source": [
    "dna=input('Enter DNA sequence: ')"
   ]
  },
  {
   "cell_type": "code",
   "execution_count": 6,
   "id": "9c0f858f",
   "metadata": {},
   "outputs": [],
   "source": [
    "def has_stop_codon(dna):\n",
    "    \"This function checks if given dna sequence has in frame stop codons.\"\n",
    "    stop_codon_found=False\n",
    "    stop_codons=['tga', 'tag', 'taa']\n",
    "    for i in range(0,len(dna),3):\n",
    "        codon=dna[i:i+3].lower()\n",
    "        if codon in stop_codons:\n",
    "            stop_codon_found=True\n",
    "            break\n",
    "    return stop_codon_found\n"
   ]
  },
  {
   "cell_type": "code",
   "execution_count": 7,
   "id": "0e44bf39",
   "metadata": {},
   "outputs": [
    {
     "data": {
      "text/plain": [
       "False"
      ]
     },
     "execution_count": 7,
     "metadata": {},
     "output_type": "execute_result"
    }
   ],
   "source": [
    "has_stop_codon(dna)"
   ]
  },
  {
   "cell_type": "markdown",
   "id": "930cd959",
   "metadata": {},
   "source": [
    "### We can modify this function to adjust/slide the frame to any number we want"
   ]
  },
  {
   "cell_type": "code",
   "execution_count": 8,
   "id": "a04e1aab",
   "metadata": {},
   "outputs": [],
   "source": [
    "def has_stop_codon_frame(dna, frame=0): #sets default frame to 0 but you can modify it when calling function\n",
    "    \"This function checks if given dna sequence has in frame stop codons.\"\n",
    "    stop_codon_found=False\n",
    "    stop_codons=['tga', 'tag', 'taa']\n",
    "    for i in range(frame,len(dna),3):\n",
    "        codon=dna[i:i+3].lower()\n",
    "        if codon in stop_codons:\n",
    "            stop_codon_found=True\n",
    "            break\n",
    "    return stop_codon_found"
   ]
  },
  {
   "cell_type": "code",
   "execution_count": 9,
   "id": "a2ed2856",
   "metadata": {},
   "outputs": [
    {
     "data": {
      "text/plain": [
       "False"
      ]
     },
     "execution_count": 9,
     "metadata": {},
     "output_type": "execute_result"
    }
   ],
   "source": [
    "has_stop_codon_frame(dna) #frame default is 0"
   ]
  },
  {
   "cell_type": "code",
   "execution_count": 10,
   "id": "d201db92",
   "metadata": {},
   "outputs": [
    {
     "data": {
      "text/plain": [
       "False"
      ]
     },
     "execution_count": 10,
     "metadata": {},
     "output_type": "execute_result"
    }
   ],
   "source": [
    "has_stop_codon_frame(dna, 0)"
   ]
  },
  {
   "cell_type": "code",
   "execution_count": 11,
   "id": "c0076e8f",
   "metadata": {},
   "outputs": [
    {
     "data": {
      "text/plain": [
       "False"
      ]
     },
     "execution_count": 11,
     "metadata": {},
     "output_type": "execute_result"
    }
   ],
   "source": [
    "has_stop_codon_frame(dna, 1)"
   ]
  },
  {
   "cell_type": "markdown",
   "id": "7e6622d5",
   "metadata": {},
   "source": [
    "### Example 3: Reverse complement"
   ]
  },
  {
   "cell_type": "code",
   "execution_count": 29,
   "id": "b401e1ef",
   "metadata": {
    "scrolled": true
   },
   "outputs": [
    {
     "name": "stdout",
     "output_type": "stream",
     "text": [
      "Enter DNA sequence: GATTACA\n"
     ]
    }
   ],
   "source": [
    "dna=input('Enter DNA sequence: ')"
   ]
  },
  {
   "cell_type": "code",
   "execution_count": 30,
   "id": "2f52a2ab",
   "metadata": {
    "scrolled": true
   },
   "outputs": [
    {
     "data": {
      "text/plain": [
       "'ACATTAG'"
      ]
     },
     "execution_count": 30,
     "metadata": {},
     "output_type": "execute_result"
    }
   ],
   "source": [
    "dna[::-1] #gives me the entire string backwards"
   ]
  },
  {
   "cell_type": "code",
   "execution_count": 31,
   "id": "dd7c4d4e",
   "metadata": {
    "scrolled": true
   },
   "outputs": [
    {
     "data": {
      "text/plain": [
       "['G', 'A', 'T', 'T', 'A', 'C', 'A']"
      ]
     },
     "execution_count": 31,
     "metadata": {},
     "output_type": "execute_result"
    }
   ],
   "source": [
    "l = list(dna) #strings can be converted to a list\n",
    "l"
   ]
  },
  {
   "cell_type": "code",
   "execution_count": 47,
   "id": "f7ce7085",
   "metadata": {},
   "outputs": [
    {
     "data": {
      "text/plain": [
       "'G-A-T-T-A-C-A'"
      ]
     },
     "execution_count": 47,
     "metadata": {},
     "output_type": "execute_result"
    }
   ],
   "source": [
    "d = '-'.join(l) #You can join the list back together with this  code\n",
    "d"
   ]
  },
  {
   "cell_type": "code",
   "execution_count": 48,
   "id": "6a613b92",
   "metadata": {
    "scrolled": true
   },
   "outputs": [
    {
     "data": {
      "text/plain": [
       "'GATTACA'"
      ]
     },
     "execution_count": 48,
     "metadata": {},
     "output_type": "execute_result"
    }
   ],
   "source": [
    "x = ''.join(l) #You can join the list back together with this  code\n",
    "x"
   ]
  },
  {
   "cell_type": "code",
   "execution_count": 49,
   "id": "13a42bda",
   "metadata": {},
   "outputs": [],
   "source": [
    "def reverse_string(seq):\n",
    "    return seq[::-1]\n",
    "    "
   ]
  },
  {
   "cell_type": "code",
   "execution_count": 50,
   "id": "ef1f07df",
   "metadata": {},
   "outputs": [],
   "source": [
    "def complement(dna):\n",
    "    \"Return the complementary sequence string.\"\n",
    "    basecomplement = {'A':'T', 'C':'G', 'G':'C', 'T':'A', 'N': 'N', 'a':'t', 'c':'g', 'g':'c', 't':'a', 'n':'n'}\n",
    "    letters = list(dna) #converts the string to a list\n",
    "    letters = [basecomplement[base] for base in letters] #converts each letter in the list to the complement\n",
    "    return''.join(letters) #joins the list letters back together (removes comma's)"
   ]
  },
  {
   "cell_type": "code",
   "execution_count": 51,
   "id": "45c86771",
   "metadata": {},
   "outputs": [],
   "source": [
    "def reversecomplement(seq):\n",
    "    \"Return the reverse complement of the dna string\"\n",
    "    seq = reverse_string(seq)\n",
    "    seq = complement(seq)\n",
    "    return seq"
   ]
  },
  {
   "cell_type": "code",
   "execution_count": 52,
   "id": "b29e1816",
   "metadata": {},
   "outputs": [
    {
     "data": {
      "text/plain": [
       "'TGTAATC'"
      ]
     },
     "execution_count": 52,
     "metadata": {},
     "output_type": "execute_result"
    }
   ],
   "source": [
    "reversecomplement(dna)"
   ]
  },
  {
   "cell_type": "markdown",
   "id": "3d3ac6eb",
   "metadata": {},
   "source": [
    "### Variable number of functions argument"
   ]
  },
  {
   "cell_type": "markdown",
   "id": "5593114c",
   "metadata": {},
   "source": [
    "General syntax:\n",
    "\n",
    "def myfunction(first,second,third):\n",
    "\n",
    "    #do something with the 3 variables\n",
    "    \n",
    "    ..."
   ]
  },
  {
   "cell_type": "code",
   "execution_count": 54,
   "id": "1ec1ae14",
   "metadata": {},
   "outputs": [],
   "source": [
    "def newfunction(first,second,third,*therest):\n",
    "    print('First: %s', first)\n",
    "    print('Second: %s', second)\n",
    "    print('Third: %s', third)\n",
    "    print('And all the rest...', therest)\n",
    "    return"
   ]
  },
  {
   "cell_type": "code",
   "execution_count": null,
   "id": "56c89d8e",
   "metadata": {},
   "outputs": [],
   "source": []
  }
 ],
 "metadata": {
  "kernelspec": {
   "display_name": "Python 3 (ipykernel)",
   "language": "python",
   "name": "python3"
  },
  "language_info": {
   "codemirror_mode": {
    "name": "ipython",
    "version": 3
   },
   "file_extension": ".py",
   "mimetype": "text/x-python",
   "name": "python",
   "nbconvert_exporter": "python",
   "pygments_lexer": "ipython3",
   "version": "3.9.7"
  }
 },
 "nbformat": 4,
 "nbformat_minor": 5
}
