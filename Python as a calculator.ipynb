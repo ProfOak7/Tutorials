{
 "cells": [
  {
   "cell_type": "code",
   "execution_count": 23,
   "id": "7e91822b",
   "metadata": {
    "scrolled": true
   },
   "outputs": [
    {
     "name": "stdout",
     "output_type": "stream",
     "text": [
      "Hello World\n"
     ]
    }
   ],
   "source": [
    "print('Hello World')"
   ]
  },
  {
   "cell_type": "markdown",
   "id": "7f002367",
   "metadata": {},
   "source": [
    "## Basic Calculator Functions"
   ]
  },
  {
   "cell_type": "code",
   "execution_count": 17,
   "id": "c7719718",
   "metadata": {},
   "outputs": [
    {
     "data": {
      "text/plain": [
       "10"
      ]
     },
     "execution_count": 17,
     "metadata": {},
     "output_type": "execute_result"
    }
   ],
   "source": [
    "# You can add\n",
    "\n",
    "5 + 5"
   ]
  },
  {
   "cell_type": "code",
   "execution_count": 24,
   "id": "f7780504",
   "metadata": {},
   "outputs": [
    {
     "data": {
      "text/plain": [
       "0"
      ]
     },
     "execution_count": 24,
     "metadata": {},
     "output_type": "execute_result"
    }
   ],
   "source": [
    "#You can subtract\n",
    "5-5"
   ]
  },
  {
   "cell_type": "code",
   "execution_count": 25,
   "id": "69103477",
   "metadata": {
    "scrolled": false
   },
   "outputs": [
    {
     "data": {
      "text/plain": [
       "20"
      ]
     },
     "execution_count": 25,
     "metadata": {},
     "output_type": "execute_result"
    }
   ],
   "source": [
    "# You can multiply\n",
    "10*2"
   ]
  },
  {
   "cell_type": "code",
   "execution_count": 26,
   "id": "92da0348",
   "metadata": {},
   "outputs": [
    {
     "data": {
      "text/plain": [
       "5.0"
      ]
     },
     "execution_count": 26,
     "metadata": {},
     "output_type": "execute_result"
    }
   ],
   "source": [
    "# You can divide\n",
    "10/2"
   ]
  },
  {
   "cell_type": "code",
   "execution_count": 29,
   "id": "ba36625d",
   "metadata": {
    "scrolled": true
   },
   "outputs": [
    {
     "data": {
      "text/plain": [
       "8.5"
      ]
     },
     "execution_count": 29,
     "metadata": {},
     "output_type": "execute_result"
    }
   ],
   "source": [
    "17/2"
   ]
  },
  {
   "cell_type": "code",
   "execution_count": 30,
   "id": "d6ba0e63",
   "metadata": {},
   "outputs": [
    {
     "data": {
      "text/plain": [
       "8"
      ]
     },
     "execution_count": 30,
     "metadata": {},
     "output_type": "execute_result"
    }
   ],
   "source": [
    "#You can discard the fractional part if you want by using //\n",
    "17//2"
   ]
  },
  {
   "cell_type": "code",
   "execution_count": 33,
   "id": "e7d84d3b",
   "metadata": {},
   "outputs": [
    {
     "data": {
      "text/plain": [
       "1"
      ]
     },
     "execution_count": 33,
     "metadata": {},
     "output_type": "execute_result"
    }
   ],
   "source": [
    "#You can return just the remainder after division by using the %\n",
    "17%2"
   ]
  },
  {
   "cell_type": "code",
   "execution_count": 38,
   "id": "8566d3a6",
   "metadata": {
    "scrolled": true
   },
   "outputs": [
    {
     "data": {
      "text/plain": [
       "100"
      ]
     },
     "execution_count": 38,
     "metadata": {},
     "output_type": "execute_result"
    }
   ],
   "source": [
    "# Python can do PEMDAS correctly\n",
    "10*10-5*2+(2*5)"
   ]
  },
  {
   "cell_type": "code",
   "execution_count": 28,
   "id": "a2514019",
   "metadata": {},
   "outputs": [
    {
     "data": {
      "text/plain": [
       "100"
      ]
     },
     "execution_count": 28,
     "metadata": {},
     "output_type": "execute_result"
    }
   ],
   "source": [
    "# ** is used to calculate powers (instead of 10^2)\n",
    "10**2"
   ]
  },
  {
   "cell_type": "markdown",
   "id": "e80e0a7d",
   "metadata": {},
   "source": [
    "## Numbers can be different types"
   ]
  },
  {
   "cell_type": "code",
   "execution_count": 41,
   "id": "d9d5be48",
   "metadata": {},
   "outputs": [
    {
     "data": {
      "text/plain": [
       "int"
      ]
     },
     "execution_count": 41,
     "metadata": {},
     "output_type": "execute_result"
    }
   ],
   "source": [
    "#whole numbers are integers\n",
    "type(5)"
   ]
  },
  {
   "cell_type": "code",
   "execution_count": 42,
   "id": "9f5c67c8",
   "metadata": {},
   "outputs": [
    {
     "data": {
      "text/plain": [
       "float"
      ]
     },
     "execution_count": 42,
     "metadata": {},
     "output_type": "execute_result"
    }
   ],
   "source": [
    "#any number with a decimel becomes a float (a \"real\" number)\n",
    "type(5.5)"
   ]
  },
  {
   "cell_type": "code",
   "execution_count": 45,
   "id": "22f9083a",
   "metadata": {},
   "outputs": [
    {
     "data": {
      "text/plain": [
       "float"
      ]
     },
     "execution_count": 45,
     "metadata": {},
     "output_type": "execute_result"
    }
   ],
   "source": [
    "type(5.0)"
   ]
  },
  {
   "cell_type": "code",
   "execution_count": 47,
   "id": "c13a2ed1",
   "metadata": {},
   "outputs": [
    {
     "data": {
      "text/plain": [
       "complex"
      ]
     },
     "execution_count": 47,
     "metadata": {},
     "output_type": "execute_result"
    }
   ],
   "source": [
    "#You can also have complex numbers\n",
    "type(3+2j)"
   ]
  },
  {
   "cell_type": "code",
   "execution_count": 51,
   "id": "47d260c0",
   "metadata": {},
   "outputs": [
    {
     "data": {
      "text/plain": [
       "(5+12j)"
      ]
     },
     "execution_count": 51,
     "metadata": {},
     "output_type": "execute_result"
    }
   ],
   "source": [
    "#You can also manipulate complex numbers\n",
    "(3+2j)**2"
   ]
  },
  {
   "cell_type": "code",
   "execution_count": null,
   "id": "69109bc4",
   "metadata": {},
   "outputs": [],
   "source": []
  }
 ],
 "metadata": {
  "kernelspec": {
   "display_name": "Python 3 (ipykernel)",
   "language": "python",
   "name": "python3"
  },
  "language_info": {
   "codemirror_mode": {
    "name": "ipython",
    "version": 3
   },
   "file_extension": ".py",
   "mimetype": "text/x-python",
   "name": "python",
   "nbconvert_exporter": "python",
   "pygments_lexer": "ipython3",
   "version": "3.9.7"
  }
 },
 "nbformat": 4,
 "nbformat_minor": 5
}
