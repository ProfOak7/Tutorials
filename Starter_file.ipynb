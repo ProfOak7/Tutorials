{
 "cells": [
  {
   "cell_type": "markdown",
   "metadata": {
    "id": "SKd2VlK29dFV"
   },
   "source": [
    "Name: Nanopillars\n",
    "\n",
    "Purpose: Design nanopillars using Phidl \n",
    "\n",
    "History: \n",
    "Written by Ching-Ting Tsai March, 20th, 2020. \n",
    "Modified by Jonathan Okerblom August, 2022. "
   ]
  },
  {
   "cell_type": "code",
   "execution_count": 1,
   "metadata": {
    "id": "VSuH6pxe9dFb"
   },
   "outputs": [],
   "source": [
    "import numpy as np\n",
    "\n",
    "### import required PhiDL package ###\n",
    "from phidl import Device, make_device, device_layout\n",
    "from phidl import quickplot2 as qp # Rename \"quickplot()\" to the easier \"qp()\"\n",
    "import phidl.geometry as pg\n",
    "\n",
    "%matplotlib qt \n",
    "#plot in a new window"
   ]
  },
  {
   "cell_type": "code",
   "execution_count": 2,
   "metadata": {
    "id": "kwSYbKKY9dFd"
   },
   "outputs": [],
   "source": [
    "# Define the parameters (unit in micron)\n",
    "\n",
    "diameters = 1.0   #pillar diameter\n",
    "angle_resolution = 12  #How many points to define a circle\n",
    "columns = 11  #columns in a 300um x 300um matrix used to be 90\n",
    "rows = 11 #rows in a 300um x 300um matrix\n",
    "# pitch is the spacing from edge to edge of the circle\n",
    "pitch_x = 2.5 #horizontal pitch\n",
    "pitch_y = 2.5 #vertical pitch\n",
    "\n",
    "\n",
    "\n"
   ]
  },
  {
   "cell_type": "code",
   "execution_count": 3,
   "metadata": {
    "id": "k_7pvHLZ9dFe"
   },
   "outputs": [],
   "source": [
    "# Create an empty canvas\n",
    "PillarMatrix = Device('Pillarmatrix')"
   ]
  },
  {
   "cell_type": "code",
   "execution_count": 4,
   "metadata": {
    "id": "sE0qCG-09dFf",
    "outputId": "a5e3f318-3049-4bca-8f75-c93b73d4ccf0"
   },
   "outputs": [
    {
     "data": {
      "text/plain": [
       "<phidl.quickplotter.Viewer at 0x1615f6c30d0>"
      ]
     },
     "execution_count": 4,
     "metadata": {},
     "output_type": "execute_result"
    }
   ],
   "source": [
    "# Create a circle shape\n",
    "C = pg.circle(diameters/2,angle_resolution)\n",
    "\n",
    "# Create a matrix of circles and add the matrix onto the canvas\n",
    "PillarMatrix.add_array(C, columns, rows,  spacing = (pitch_x, pitch_y))\n",
    "\n",
    "\n",
    "qp(PillarMatrix)  #Plot the matrix (if required)\n"
   ]
  },
  {
   "cell_type": "code",
   "execution_count": null,
   "metadata": {},
   "outputs": [],
   "source": []
  }
 ],
 "metadata": {
  "colab": {
   "name": "20220228_Just Nanopillars_SRS_Wafer.ipynb",
   "provenance": []
  },
  "kernelspec": {
   "display_name": "Python 3 (ipykernel)",
   "language": "python",
   "name": "python3"
  },
  "language_info": {
   "codemirror_mode": {
    "name": "ipython",
    "version": 3
   },
   "file_extension": ".py",
   "mimetype": "text/x-python",
   "name": "python",
   "nbconvert_exporter": "python",
   "pygments_lexer": "ipython3",
   "version": "3.9.12"
  }
 },
 "nbformat": 4,
 "nbformat_minor": 1
}
