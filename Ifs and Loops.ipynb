{
 "cells": [
  {
   "cell_type": "markdown",
   "id": "0f9d26a1",
   "metadata": {},
   "source": [
    "## If statements provide a condiion for coding\n"
   ]
  },
  {
   "cell_type": "code",
   "execution_count": 69,
   "id": "05bb9e53",
   "metadata": {},
   "outputs": [
    {
     "name": "stdout",
     "output_type": "stream",
     "text": [
      "Enter a DNA sequenceACTAGCATCGACTACGATCGACTACATCACGACTAGCACAnn\n"
     ]
    }
   ],
   "source": [
    "dna = input('Enter a DNA sequence')"
   ]
  },
  {
   "cell_type": "code",
   "execution_count": 70,
   "id": "dc937a3e",
   "metadata": {},
   "outputs": [
    {
     "name": "stdout",
     "output_type": "stream",
     "text": [
      "dna sequence has 2 undefined bases\n"
     ]
    }
   ],
   "source": [
    "if 'n' in dna:\n",
    "    nbases = dna.count('n')\n",
    "    print ('dna sequence has', nbases, 'undefined bases')"
   ]
  },
  {
   "cell_type": "code",
   "execution_count": 71,
   "id": "051f2ddf",
   "metadata": {},
   "outputs": [
    {
     "name": "stdout",
     "output_type": "stream",
     "text": [
      "dna sequence has 2 undefined bases\n"
     ]
    }
   ],
   "source": [
    "if 'n' in dna:\n",
    "    nbases = dna.count('n')\n",
    "    print ('dna sequence has %d undefined bases' %nbases) #this is another way you can notate it"
   ]
  },
  {
   "cell_type": "markdown",
   "id": "b96fd678",
   "metadata": {},
   "source": [
    "### A condition in the if statement is called a Boolean expression\n",
    "### Boolean Expressions are expressions that are either true or false"
   ]
  },
  {
   "cell_type": "code",
   "execution_count": 72,
   "id": "e4cea7c8",
   "metadata": {},
   "outputs": [
    {
     "data": {
      "text/plain": [
       "True"
      ]
     },
     "execution_count": 72,
     "metadata": {},
     "output_type": "execute_result"
    }
   ],
   "source": [
    "0<1"
   ]
  },
  {
   "cell_type": "code",
   "execution_count": 73,
   "id": "b843b8b6",
   "metadata": {},
   "outputs": [
    {
     "data": {
      "text/plain": [
       "False"
      ]
     },
     "execution_count": 73,
     "metadata": {},
     "output_type": "execute_result"
    }
   ],
   "source": [
    "len('atggt')>=10"
   ]
  },
  {
   "cell_type": "markdown",
   "id": "f2a35bd3",
   "metadata": {},
   "source": [
    "### Comparisons and Operators for Boolean expressions in If Statements\n",
    "\n",
    "Equal                      ==\n",
    "\n",
    "Not equal                  !=\n",
    "\n",
    "Less  than                  <\n",
    "\n",
    "Greater than                >\n",
    "\n",
    "lessa than or equal to      <=\n",
    "\n",
    "greater than of equal to    >=\n"
   ]
  },
  {
   "cell_type": "code",
   "execution_count": 74,
   "id": "b938488f",
   "metadata": {},
   "outputs": [
    {
     "data": {
      "text/plain": [
       "False"
      ]
     },
     "execution_count": 74,
     "metadata": {},
     "output_type": "execute_result"
    }
   ],
   "source": [
    "'a' == 'A'"
   ]
  },
  {
   "cell_type": "code",
   "execution_count": 75,
   "id": "b6035303",
   "metadata": {},
   "outputs": [
    {
     "data": {
      "text/plain": [
       "True"
      ]
     },
     "execution_count": 75,
     "metadata": {},
     "output_type": "execute_result"
    }
   ],
   "source": [
    "'a' != 'A'"
   ]
  },
  {
   "cell_type": "code",
   "execution_count": 76,
   "id": "9c1ecf67",
   "metadata": {},
   "outputs": [
    {
     "data": {
      "text/plain": [
       "False"
      ]
     },
     "execution_count": 76,
     "metadata": {},
     "output_type": "execute_result"
    }
   ],
   "source": [
    "'A' > 'C'"
   ]
  },
  {
   "cell_type": "code",
   "execution_count": 77,
   "id": "266a4cf3",
   "metadata": {},
   "outputs": [
    {
     "data": {
      "text/plain": [
       "True"
      ]
     },
     "execution_count": 77,
     "metadata": {},
     "output_type": "execute_result"
    }
   ],
   "source": [
    "'A' < 'C'"
   ]
  },
  {
   "cell_type": "markdown",
   "id": "e3fa640b",
   "metadata": {},
   "source": [
    "'A' <= 'C'"
   ]
  },
  {
   "cell_type": "code",
   "execution_count": 78,
   "id": "3586fba4",
   "metadata": {},
   "outputs": [
    {
     "data": {
      "text/plain": [
       "False"
      ]
     },
     "execution_count": 78,
     "metadata": {},
     "output_type": "execute_result"
    }
   ],
   "source": [
    "'A' >= 'C'"
   ]
  },
  {
   "cell_type": "markdown",
   "id": "60c3e37b",
   "metadata": {},
   "source": [
    "### You can also use\" in\" and \"not in\" to detect whether something is present or not"
   ]
  },
  {
   "cell_type": "code",
   "execution_count": 79,
   "id": "aa2c38d4",
   "metadata": {},
   "outputs": [
    {
     "data": {
      "text/plain": [
       "True"
      ]
     },
     "execution_count": 79,
     "metadata": {},
     "output_type": "execute_result"
    }
   ],
   "source": [
    "seq = 'gattaca'\n",
    "dna = 'gattacaactagcatcgactacgatcagctact'\n",
    "seq in dna"
   ]
  },
  {
   "cell_type": "code",
   "execution_count": 80,
   "id": "4ac2e81e",
   "metadata": {},
   "outputs": [
    {
     "data": {
      "text/plain": [
       "False"
      ]
     },
     "execution_count": 80,
     "metadata": {},
     "output_type": "execute_result"
    }
   ],
   "source": [
    "dna in seq"
   ]
  },
  {
   "cell_type": "code",
   "execution_count": 81,
   "id": "04007efd",
   "metadata": {},
   "outputs": [
    {
     "data": {
      "text/plain": [
       "True"
      ]
     },
     "execution_count": 81,
     "metadata": {},
     "output_type": "execute_result"
    }
   ],
   "source": [
    "dna not in seq"
   ]
  },
  {
   "cell_type": "markdown",
   "id": "16d164a4",
   "metadata": {},
   "source": [
    "### You can also use\" is\" and \"is not\" to determine whether variables match"
   ]
  },
  {
   "cell_type": "code",
   "execution_count": 82,
   "id": "b5ed9fad",
   "metadata": {},
   "outputs": [],
   "source": [
    "code = ['a', 'c', 't', 'g']\n",
    "code2 = code\n"
   ]
  },
  {
   "cell_type": "code",
   "execution_count": 83,
   "id": "f7140f98",
   "metadata": {},
   "outputs": [
    {
     "data": {
      "text/plain": [
       "True"
      ]
     },
     "execution_count": 83,
     "metadata": {},
     "output_type": "execute_result"
    }
   ],
   "source": [
    "code2 is code"
   ]
  },
  {
   "cell_type": "code",
   "execution_count": 84,
   "id": "e7db8ddd",
   "metadata": {},
   "outputs": [
    {
     "data": {
      "text/plain": [
       "False"
      ]
     },
     "execution_count": 84,
     "metadata": {},
     "output_type": "execute_result"
    }
   ],
   "source": [
    "code2 is not code"
   ]
  },
  {
   "cell_type": "markdown",
   "id": "c499266a",
   "metadata": {},
   "source": [
    "### You can test multiple ifs in the same code.... You just need to use elif... You can also provide an alternative if the if statements are never true.... Which is called else"
   ]
  },
  {
   "cell_type": "code",
   "execution_count": 85,
   "id": "d1f5a818",
   "metadata": {},
   "outputs": [],
   "source": [
    "code3 = ['GATTACA']"
   ]
  },
  {
   "cell_type": "code",
   "execution_count": 86,
   "id": "e7562ad3",
   "metadata": {},
   "outputs": [
    {
     "name": "stdout",
     "output_type": "stream",
     "text": [
      "Code matches code2\n"
     ]
    }
   ],
   "source": [
    "if code == code3:\n",
    "    print('Code matches code3')\n",
    "elif code == code2:\n",
    "    print('Code matches code2')\n",
    "else:\n",
    "    print('None of the conditions are true')\n"
   ]
  },
  {
   "cell_type": "code",
   "execution_count": 87,
   "id": "24df1f7c",
   "metadata": {},
   "outputs": [
    {
     "name": "stdout",
     "output_type": "stream",
     "text": [
      "None of the conditions are true\n"
     ]
    }
   ],
   "source": [
    "if code == code3:\n",
    "    print('Code matches code3')\n",
    "elif code2 == code3:\n",
    "    print('Code2 matches code3')\n",
    "else:\n",
    "    print('None of the conditions are true')"
   ]
  },
  {
   "cell_type": "markdown",
   "id": "aa456f98",
   "metadata": {},
   "source": [
    "### Logical operators:\n",
    "    and - true if both conditions are true\n",
    "    \n",
    "    or - true if at least one condition is true\n",
    "    \n",
    "    not - true if condition is false"
   ]
  },
  {
   "cell_type": "markdown",
   "id": "821f2e1b",
   "metadata": {},
   "source": [
    "# Loops!!! Pay close attention (while loops and for loops):"
   ]
  },
  {
   "cell_type": "markdown",
   "id": "52ad85df",
   "metadata": {},
   "source": [
    "Problem: Given a DNA sequence find the positions of all canonical donor splice site candidates in the sequence"
   ]
  },
  {
   "cell_type": "code",
   "execution_count": 88,
   "id": "5e76a2ff",
   "metadata": {},
   "outputs": [
    {
     "name": "stdout",
     "output_type": "stream",
     "text": [
      "Enter DNA sequence:\n"
     ]
    }
   ],
   "source": [
    "dna = input('Enter DNA sequence:')\n",
    "pos=dna.find('gt',0) # position of donor splice site (splice sites always start with gt)"
   ]
  },
  {
   "cell_type": "code",
   "execution_count": 89,
   "id": "c7c69519",
   "metadata": {},
   "outputs": [],
   "source": [
    "#While loop sets a condition to perform a loop\n",
    "while pos>-1: #this establishes how long the loop should run (basically until the end since -1 is )\n",
    "    print(\"Donor splice site candidate at position %d\" %pos)\n",
    "    pos=dna.find('gt', pos+1)\n"
   ]
  },
  {
   "cell_type": "code",
   "execution_count": 90,
   "id": "0fd22ac5",
   "metadata": {},
   "outputs": [],
   "source": [
    "seqs=[\"atgatcagctactg\", 'gattacagactagctactagcgt', 'gattacagattaca']"
   ]
  },
  {
   "cell_type": "code",
   "execution_count": 91,
   "id": "737a2e88",
   "metadata": {},
   "outputs": [
    {
     "name": "stdout",
     "output_type": "stream",
     "text": [
      "atgatcagctactg 14\n",
      "gattacagactagctactagcgt 23\n",
      "gattacagattaca 14\n"
     ]
    }
   ],
   "source": [
    "#for loop iterates over the itans of any list or string, in the order that they appear in the sequence... \n",
    "for m in seqs:\n",
    "    print(m, len(m))"
   ]
  },
  {
   "cell_type": "code",
   "execution_count": 92,
   "id": "1b4546e1",
   "metadata": {},
   "outputs": [
    {
     "name": "stdout",
     "output_type": "stream",
     "text": [
      "0\n",
      "1\n",
      "2\n",
      "3\n"
     ]
    }
   ],
   "source": [
    "#The range function is a built in function that allows you to iterate over a certain range\n",
    "for i in range(4):\n",
    "    print(i)"
   ]
  },
  {
   "cell_type": "code",
   "execution_count": 93,
   "id": "af7bae68",
   "metadata": {},
   "outputs": [
    {
     "name": "stdout",
     "output_type": "stream",
     "text": [
      "1\n",
      "3\n",
      "5\n",
      "7\n",
      "9\n"
     ]
    }
   ],
   "source": [
    "#The range function can be more custom (start, stop, step)\n",
    "for i in range(1,10,2):\n",
    "    print(i)"
   ]
  },
  {
   "cell_type": "markdown",
   "id": "2d939472",
   "metadata": {},
   "source": [
    "Problem: Find if all the characters in a given protein sequence are valid amino acids."
   ]
  },
  {
   "cell_type": "code",
   "execution_count": 96,
   "id": "3b016151",
   "metadata": {},
   "outputs": [
    {
     "name": "stdout",
     "output_type": "stream",
     "text": [
      "Enter a protein amino acid sequence: ACAOIJCGKJCshGcKJAGHCKAJGHCAN\n"
     ]
    }
   ],
   "source": [
    "protein=input('Enter a protein amino acid sequence: ')"
   ]
  },
  {
   "cell_type": "code",
   "execution_count": 97,
   "id": "9e60d4e3",
   "metadata": {
    "scrolled": true
   },
   "outputs": [
    {
     "name": "stdout",
     "output_type": "stream",
     "text": [
      "protein contains invalid amino acid O at position 3\n",
      "protein contains invalid amino acid J at position 5\n",
      "protein contains invalid amino acid J at position 9\n",
      "protein contains invalid amino acid s at position 11\n",
      "protein contains invalid amino acid h at position 12\n",
      "protein contains invalid amino acid c at position 14\n",
      "protein contains invalid amino acid J at position 16\n",
      "protein contains invalid amino acid J at position 23\n"
     ]
    }
   ],
   "source": [
    "for i in range(len(protein)):\n",
    "    if protein[i] not in 'ACDEFGHIKLMNPQRSTVW': #these are the valid amino acid letters\n",
    "        print('protein contains invalid amino acid', protein[i], 'at position', i)\n",
    "        "
   ]
  },
  {
   "cell_type": "markdown",
   "id": "1059c749",
   "metadata": {},
   "source": [
    "### Breaking out of loops"
   ]
  },
  {
   "cell_type": "code",
   "execution_count": 99,
   "id": "eb655afe",
   "metadata": {},
   "outputs": [
    {
     "name": "stdout",
     "output_type": "stream",
     "text": [
      "this is not a valid protein sequence\n"
     ]
    }
   ],
   "source": [
    "for i in range(len(protein)):\n",
    "    if protein[i] not in 'ACDEFGHIKLMNPQRSTVW': #these are the valid amino acid letters\n",
    "        print('this is not a valid protein sequence')\n",
    "        break"
   ]
  },
  {
   "cell_type": "markdown",
   "id": "d9ce8a67",
   "metadata": {},
   "source": [
    "### The continue statement\n",
    "The continue statement can be set up to read that \"if the first condition is not met... keep going and do the next thing\"\n"
   ]
  },
  {
   "cell_type": "code",
   "execution_count": 103,
   "id": "b8b09f68",
   "metadata": {},
   "outputs": [
    {
     "name": "stdout",
     "output_type": "stream",
     "text": [
      "Corrected protein sequence is: ACAICGKCGKAGHCKAGHCAN\n"
     ]
    }
   ],
   "source": [
    "corrected_protein=''\n",
    "for i in range(len(protein)):\n",
    "    if protein[i] not in 'ACDEFGHIKLMNPQRSTVW':\n",
    "        continue\n",
    "    corrected_protein=corrected_protein+protein[i]\n",
    "print('Corrected protein sequence is: %s'%corrected_protein)"
   ]
  },
  {
   "cell_type": "markdown",
   "id": "8e8efcf9",
   "metadata": {},
   "source": [
    "### An example of else in a for loop\n",
    "Problem: Find all prime numbers smaller than a given integer"
   ]
  },
  {
   "cell_type": "code",
   "execution_count": 104,
   "id": "3da2378f",
   "metadata": {
    "scrolled": true
   },
   "outputs": [
    {
     "name": "stdout",
     "output_type": "stream",
     "text": [
      "2 is a prime number\n",
      "3 is a prime number\n",
      "4 equals 2 * 2\n",
      "5 is a prime number\n",
      "6 equals 2 * 3\n",
      "7 is a prime number\n",
      "8 equals 2 * 4\n",
      "9 equals 3 * 3\n"
     ]
    }
   ],
   "source": [
    "N = 10\n",
    "for y in range (2, N):\n",
    "    for x in range(2,y):\n",
    "        if y % x == 0: #this % is a code to determine the remainder of a division product\n",
    "            print(y, 'equals', x, '*', y//x)\n",
    "            break\n",
    "    else: #if loop fell through without finding a factor\n",
    "        print(y, 'is a prime number')\n",
    "    "
   ]
  },
  {
   "cell_type": "markdown",
   "id": "de1b400e",
   "metadata": {},
   "source": [
    "## Pass statement\n",
    "It's just a placeholder - it does nothing"
   ]
  },
  {
   "cell_type": "code",
   "execution_count": 108,
   "id": "6ad8bea0",
   "metadata": {},
   "outputs": [
    {
     "name": "stdout",
     "output_type": "stream",
     "text": [
      "dna is not in seq\n"
     ]
    }
   ],
   "source": [
    "if dna not in seq:\n",
    "    pass #You can use it to hold a place until you actually add a function here... etc\n",
    "else:\n",
    "    print('dna is not in seq')"
   ]
  },
  {
   "cell_type": "code",
   "execution_count": null,
   "id": "fe36a3f8",
   "metadata": {},
   "outputs": [],
   "source": []
  }
 ],
 "metadata": {
  "kernelspec": {
   "display_name": "Python 3 (ipykernel)",
   "language": "python",
   "name": "python3"
  },
  "language_info": {
   "codemirror_mode": {
    "name": "ipython",
    "version": 3
   },
   "file_extension": ".py",
   "mimetype": "text/x-python",
   "name": "python",
   "nbconvert_exporter": "python",
   "pygments_lexer": "ipython3",
   "version": "3.9.7"
  }
 },
 "nbformat": 4,
 "nbformat_minor": 5
}
