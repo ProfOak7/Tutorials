{
 "cells": [
  {
   "cell_type": "code",
   "execution_count": 13,
   "id": "ce20c610",
   "metadata": {},
   "outputs": [],
   "source": [
    "#A tuple consists of values separate by commas (without brackets like a list). \n",
    "t = 7, 6, 5, 4, 3, 2, 1"
   ]
  },
  {
   "cell_type": "code",
   "execution_count": 14,
   "id": "d4ddd71b",
   "metadata": {
    "scrolled": true
   },
   "outputs": [
    {
     "data": {
      "text/plain": [
       "(7, 6, 5, 4, 3, 2, 1)"
      ]
     },
     "execution_count": 14,
     "metadata": {},
     "output_type": "execute_result"
    }
   ],
   "source": [
    "t"
   ]
  },
  {
   "cell_type": "code",
   "execution_count": 15,
   "id": "651b4837",
   "metadata": {},
   "outputs": [
    {
     "data": {
      "text/plain": [
       "tuple"
      ]
     },
     "execution_count": 15,
     "metadata": {},
     "output_type": "execute_result"
    }
   ],
   "source": [
    "type(t)"
   ]
  },
  {
   "cell_type": "code",
   "execution_count": 16,
   "id": "c09433e4",
   "metadata": {},
   "outputs": [
    {
     "data": {
      "text/plain": [
       "(1, 4, 5, 7, 5, 4, 43, 3)"
      ]
     },
     "execution_count": 16,
     "metadata": {},
     "output_type": "execute_result"
    }
   ],
   "source": [
    "#Adding paranthesis also makes a tuple\n",
    "t2 = (1,4,5,7,5,4,43,3)\n",
    "t2"
   ]
  },
  {
   "cell_type": "code",
   "execution_count": 17,
   "id": "65bd4960",
   "metadata": {},
   "outputs": [
    {
     "data": {
      "text/plain": [
       "tuple"
      ]
     },
     "execution_count": 17,
     "metadata": {},
     "output_type": "execute_result"
    }
   ],
   "source": [
    "type(t2)"
   ]
  },
  {
   "cell_type": "code",
   "execution_count": 18,
   "id": "a92fc73a",
   "metadata": {},
   "outputs": [
    {
     "data": {
      "text/plain": [
       "{'duplicate', 'other stuff', 'otherstuff2', 'otherstuff3'}"
      ]
     },
     "execution_count": 18,
     "metadata": {},
     "output_type": "execute_result"
    }
   ],
   "source": [
    "#A set is an unordered collection with no duplicate elements. Sets are good for mathematical operations... \n",
    "#Please note that if you add duplicate elements, python will remove them from a set\n",
    "s = {'duplicate', 'duplicate', 'other stuff', 'otherstuff2', 'otherstuff3'}\n",
    "s"
   ]
  },
  {
   "cell_type": "code",
   "execution_count": 19,
   "id": "31088e66",
   "metadata": {},
   "outputs": [
    {
     "data": {
      "text/plain": [
       "set"
      ]
     },
     "execution_count": 19,
     "metadata": {},
     "output_type": "execute_result"
    }
   ],
   "source": [
    "type(s)"
   ]
  },
  {
   "cell_type": "code",
   "execution_count": 25,
   "id": "5c0dc538",
   "metadata": {},
   "outputs": [],
   "source": [
    "s2 = {'howdy', 'partner', 'welcome', 'to', 'Texas', 'other stuff'}"
   ]
  },
  {
   "cell_type": "code",
   "execution_count": 26,
   "id": "d7c767a1",
   "metadata": {},
   "outputs": [
    {
     "data": {
      "text/plain": [
       "{'other stuff'}"
      ]
     },
     "execution_count": 26,
     "metadata": {},
     "output_type": "execute_result"
    }
   ],
   "source": [
    "#You can determine what sets have in common using &\n",
    "s & s2"
   ]
  },
  {
   "cell_type": "code",
   "execution_count": 27,
   "id": "bef9c9f0",
   "metadata": {},
   "outputs": [
    {
     "data": {
      "text/plain": [
       "{'duplicate', 'otherstuff2', 'otherstuff3'}"
      ]
     },
     "execution_count": 27,
     "metadata": {},
     "output_type": "execute_result"
    }
   ],
   "source": [
    "#To determine what is in s that is not in s2 you can subtract\n",
    "s - s2"
   ]
  },
  {
   "cell_type": "code",
   "execution_count": 29,
   "id": "2cc2d4ad",
   "metadata": {},
   "outputs": [
    {
     "data": {
      "text/plain": [
       "{'Texas', 'howdy', 'partner', 'to', 'welcome'}"
      ]
     },
     "execution_count": 29,
     "metadata": {},
     "output_type": "execute_result"
    }
   ],
   "source": [
    "#or vice versa\n",
    "s2 - s"
   ]
  },
  {
   "cell_type": "code",
   "execution_count": 43,
   "id": "b641ab8a",
   "metadata": {},
   "outputs": [],
   "source": [
    "#Sets are good for creating dictionaries - you can assign a term to another term (in format key:term)\n",
    "student_names = {'student1' : 'Jon', 'student2' : 'Joe', 'student3' : 'Jim', 'student4' : 'Jessica', 'student5' : 'Janice', 'student6' : 'Jenna'}"
   ]
  },
  {
   "cell_type": "code",
   "execution_count": 62,
   "id": "6b891e55",
   "metadata": {},
   "outputs": [
    {
     "data": {
      "text/plain": [
       "dict"
      ]
     },
     "execution_count": 62,
     "metadata": {},
     "output_type": "execute_result"
    }
   ],
   "source": [
    "type(student_names)"
   ]
  },
  {
   "cell_type": "code",
   "execution_count": 63,
   "id": "4bf7185c",
   "metadata": {},
   "outputs": [
    {
     "name": "stdout",
     "output_type": "stream",
     "text": [
      "The name of my 6th student is: Jenna\n"
     ]
    }
   ],
   "source": [
    "#To get values out of a dictionary use the keys in square brackets\n",
    "print('The name of my 6th student is:', student_names['student6'])"
   ]
  },
  {
   "cell_type": "code",
   "execution_count": 64,
   "id": "6fdfcd5a",
   "metadata": {},
   "outputs": [
    {
     "data": {
      "text/plain": [
       "{'student1': 'Jon',\n",
       " 'student2': 'Joe',\n",
       " 'student3': 'Jim',\n",
       " 'student4': 'Jessica',\n",
       " 'student5': 'Janice',\n",
       " 'student6': 'Jenna',\n",
       " 'student7': 'Billy Bob Thornton'}"
      ]
     },
     "execution_count": 64,
     "metadata": {},
     "output_type": "execute_result"
    }
   ],
   "source": [
    "#You can add a new key and value to a set\n",
    "student_names['student7'] = 'Billy Bob Thornton'\n",
    "student_names"
   ]
  },
  {
   "cell_type": "code",
   "execution_count": 65,
   "id": "79bd12a4",
   "metadata": {},
   "outputs": [
    {
     "name": "stdout",
     "output_type": "stream",
     "text": [
      "The name of my 7th student is: Billy Bob Thornton\n"
     ]
    }
   ],
   "source": [
    "#To get values out of a dictionary use the keys in square brackets\n",
    "print('The name of my 7th student is:', student_names['student7'])"
   ]
  },
  {
   "cell_type": "code",
   "execution_count": 66,
   "id": "15a5ed60",
   "metadata": {},
   "outputs": [
    {
     "data": {
      "text/plain": [
       "{'student1': 'Jon',\n",
       " 'student2': 'Joe',\n",
       " 'student3': 'Jim',\n",
       " 'student4': 'Jessica',\n",
       " 'student5': 'Janice',\n",
       " 'student6': 'Jenna',\n",
       " 'student7': 'Elon Musk'}"
      ]
     },
     "execution_count": 66,
     "metadata": {},
     "output_type": "execute_result"
    }
   ],
   "source": [
    "#You can modify a set\n",
    "student_names['student7'] = 'Elon Musk'\n",
    "student_names"
   ]
  },
  {
   "cell_type": "code",
   "execution_count": 67,
   "id": "9ca478f1",
   "metadata": {},
   "outputs": [
    {
     "name": "stdout",
     "output_type": "stream",
     "text": [
      "The name of my 7th student is: Elon Musk\n"
     ]
    }
   ],
   "source": [
    "print('The name of my 7th student is:', student_names['student7'])"
   ]
  },
  {
   "cell_type": "code",
   "execution_count": 68,
   "id": "85c9dc5c",
   "metadata": {},
   "outputs": [
    {
     "data": {
      "text/plain": [
       "{'student1': 'Jon',\n",
       " 'student2': 'Joe',\n",
       " 'student3': 'Jim',\n",
       " 'student4': 'Jessica',\n",
       " 'student5': 'Janice',\n",
       " 'student6': 'Jenna'}"
      ]
     },
     "execution_count": 68,
     "metadata": {},
     "output_type": "execute_result"
    }
   ],
   "source": [
    "#You can also delete an entry from a set\n",
    "del student_names['student7']\n",
    "student_names"
   ]
  },
  {
   "cell_type": "code",
   "execution_count": 69,
   "id": "e48a001c",
   "metadata": {},
   "outputs": [
    {
     "data": {
      "text/plain": [
       "6"
      ]
     },
     "execution_count": 69,
     "metadata": {},
     "output_type": "execute_result"
    }
   ],
   "source": [
    "#You can also employ len() function to get length of set\n",
    "len(student_names)"
   ]
  },
  {
   "cell_type": "code",
   "execution_count": 70,
   "id": "9ac72cf9",
   "metadata": {},
   "outputs": [
    {
     "data": {
      "text/plain": [
       "['student1', 'student2', 'student3', 'student4', 'student5', 'student6']"
      ]
     },
     "execution_count": 70,
     "metadata": {},
     "output_type": "execute_result"
    }
   ],
   "source": [
    "#You can get all the keys from a set\n",
    "list(student_names.keys())"
   ]
  },
  {
   "cell_type": "code",
   "execution_count": 71,
   "id": "e112692f",
   "metadata": {},
   "outputs": [
    {
     "data": {
      "text/plain": [
       "['Jon', 'Joe', 'Jim', 'Jessica', 'Janice', 'Jenna']"
      ]
     },
     "execution_count": 71,
     "metadata": {},
     "output_type": "execute_result"
    }
   ],
   "source": [
    "#You can get all the values from a set\n",
    "list(student_names.values())"
   ]
  },
  {
   "cell_type": "code",
   "execution_count": 72,
   "id": "13068d74",
   "metadata": {},
   "outputs": [
    {
     "data": {
      "text/plain": [
       "['Janice', 'Jenna', 'Jessica', 'Jim', 'Joe', 'Jon']"
      ]
     },
     "execution_count": 72,
     "metadata": {},
     "output_type": "execute_result"
    }
   ],
   "source": [
    "#You can sort your values or keys if you want\n",
    "sorted(student_names.values())"
   ]
  }
 ],
 "metadata": {
  "kernelspec": {
   "display_name": "Python 3 (ipykernel)",
   "language": "python",
   "name": "python3"
  },
  "language_info": {
   "codemirror_mode": {
    "name": "ipython",
    "version": 3
   },
   "file_extension": ".py",
   "mimetype": "text/x-python",
   "name": "python",
   "nbconvert_exporter": "python",
   "pygments_lexer": "ipython3",
   "version": "3.9.7"
  }
 },
 "nbformat": 4,
 "nbformat_minor": 5
}
