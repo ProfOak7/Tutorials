{
 "cells": [
  {
   "cell_type": "code",
   "execution_count": 5,
   "id": "71b07963",
   "metadata": {},
   "outputs": [
    {
     "data": {
      "text/plain": [
       "'GATTACA'"
      ]
     },
     "execution_count": 5,
     "metadata": {},
     "output_type": "execute_result"
    }
   ],
   "source": [
    "#Letters surrounded with quotes are saved as strings...\n",
    "#Strings are very useful in biological datasets (things like genetic code are saved as strings)\n",
    "\n",
    "'GATTACA'"
   ]
  },
  {
   "cell_type": "code",
   "execution_count": 6,
   "id": "3f577ea5",
   "metadata": {},
   "outputs": [
    {
     "data": {
      "text/plain": [
       "str"
      ]
     },
     "execution_count": 6,
     "metadata": {},
     "output_type": "execute_result"
    }
   ],
   "source": [
    "type('GATTACA')"
   ]
  },
  {
   "cell_type": "code",
   "execution_count": 14,
   "id": "22acc746",
   "metadata": {},
   "outputs": [
    {
     "data": {
      "text/plain": [
       "'GATTACA IS AWESOME'"
      ]
     },
     "execution_count": 14,
     "metadata": {},
     "output_type": "execute_result"
    }
   ],
   "source": [
    "#You can concatenate strings (combine them together)\n",
    "'GATTACA' + ' IS AWESOME'"
   ]
  },
  {
   "cell_type": "code",
   "execution_count": 16,
   "id": "6bf130d9",
   "metadata": {},
   "outputs": [
    {
     "data": {
      "text/plain": [
       "'GATTACA IS AWESOME'"
      ]
     },
     "execution_count": 16,
     "metadata": {},
     "output_type": "execute_result"
    }
   ],
   "source": [
    "#You can assign strings to variables and concatenate them (combine them together)\n",
    "a = 'GATTACA'\n",
    "b = ' IS AWESOME'\n",
    "a+b"
   ]
  },
  {
   "cell_type": "code",
   "execution_count": 21,
   "id": "b58a649f",
   "metadata": {},
   "outputs": [
    {
     "data": {
      "text/plain": [
       "'GATTACAGATTACAGATTACAGATTACAGATTACA'"
      ]
     },
     "execution_count": 21,
     "metadata": {},
     "output_type": "execute_result"
    }
   ],
   "source": [
    "#You can copy strings\n",
    "a * 5 "
   ]
  },
  {
   "cell_type": "code",
   "execution_count": 22,
   "id": "3537986f",
   "metadata": {},
   "outputs": [
    {
     "data": {
      "text/plain": [
       "'GATTACAGATTACAGATTACAGATTACAGATTACA IS AWESOME IS AWESOME'"
      ]
     },
     "execution_count": 22,
     "metadata": {},
     "output_type": "execute_result"
    }
   ],
   "source": [
    "#You can copy and concatenate strings\n",
    "a * 5 + b*2"
   ]
  },
  {
   "cell_type": "code",
   "execution_count": 23,
   "id": "e77bf439",
   "metadata": {},
   "outputs": [
    {
     "data": {
      "text/plain": [
       "False"
      ]
     },
     "execution_count": 23,
     "metadata": {},
     "output_type": "execute_result"
    }
   ],
   "source": [
    "#You can look for things in strings (here checking to see if \"in\" is in GATTACA)\n",
    "'in' in a"
   ]
  },
  {
   "cell_type": "code",
   "execution_count": 28,
   "id": "88e6f42b",
   "metadata": {},
   "outputs": [
    {
     "data": {
      "text/plain": [
       "True"
      ]
     },
     "execution_count": 28,
     "metadata": {},
     "output_type": "execute_result"
    }
   ],
   "source": [
    "#You can look for things in strings (here checking to see if \"GAT\" is in GATTACA)\n",
    "'GAT' in a"
   ]
  },
  {
   "cell_type": "code",
   "execution_count": 29,
   "id": "5923e016",
   "metadata": {},
   "outputs": [
    {
     "data": {
      "text/plain": [
       "True"
      ]
     },
     "execution_count": 29,
     "metadata": {},
     "output_type": "execute_result"
    }
   ],
   "source": [
    "#You can look for things that ARE NOT in strings (here checking to see if \"in\" is NOT IN GATTACA)\n",
    "'in' not in a"
   ]
  },
  {
   "cell_type": "code",
   "execution_count": 30,
   "id": "b82dd11b",
   "metadata": {},
   "outputs": [
    {
     "data": {
      "text/plain": [
       "False"
      ]
     },
     "execution_count": 30,
     "metadata": {},
     "output_type": "execute_result"
    }
   ],
   "source": [
    "#You can look for things that ARE NOT in strings (here checking to see if \"GAT\" is NOT IN GATTACA)\n",
    "'GAT' not in a"
   ]
  },
  {
   "cell_type": "code",
   "execution_count": null,
   "id": "e70ca6ee",
   "metadata": {},
   "outputs": [],
   "source": []
  }
 ],
 "metadata": {
  "kernelspec": {
   "display_name": "Python 3 (ipykernel)",
   "language": "python",
   "name": "python3"
  },
  "language_info": {
   "codemirror_mode": {
    "name": "ipython",
    "version": 3
   },
   "file_extension": ".py",
   "mimetype": "text/x-python",
   "name": "python",
   "nbconvert_exporter": "python",
   "pygments_lexer": "ipython3",
   "version": "3.9.7"
  }
 },
 "nbformat": 4,
 "nbformat_minor": 5
}
