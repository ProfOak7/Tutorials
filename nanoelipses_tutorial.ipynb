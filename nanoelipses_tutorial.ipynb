{
 "cells": [
  {
   "cell_type": "markdown",
   "metadata": {
    "id": "SKd2VlK29dFV"
   },
   "source": [
    "Name: Nanoelipses (similar to nanobars)\n",
    "\n",
    "Purpose: Design nanoelipses\n",
    "\n",
    "History: \n",
    "Nanopillars Written by Ching-Ting Tsai March, 20th, 2020. \n",
    "Modified into nanoelipses by Jonathan Okerblom, August 2022 "
   ]
  },
  {
   "cell_type": "code",
   "execution_count": 29,
   "metadata": {
    "id": "VSuH6pxe9dFb"
   },
   "outputs": [],
   "source": [
    "import numpy as np\n",
    "\n",
    "### import required PhiDL package ###\n",
    "from phidl import Device\n",
    "from phidl import quickplot2 as qp # Rename \"quickplot()\" to the easier \"qp()\"\n",
    "import phidl.geometry as pg\n",
    "\n",
    "%matplotlib qt \n",
    "#plot in a new window"
   ]
  },
  {
   "cell_type": "code",
   "execution_count": 30,
   "metadata": {
    "id": "kwSYbKKY9dFd"
   },
   "outputs": [],
   "source": [
    "# Define the parameters (unit in micron)\n",
    "\n",
    "columns = 30 \n",
    "rows = 30 \n",
    "# pitch is the spacing from edge to edge of the circle\n",
    "pitch_x = 7.5 #horizontal pitch\n",
    "pitch_y = 7.5 #vertical pitch\n",
    "T = pg.text(' J.Okerblom - BioNE Lab - 2022', layer = 0)\n",
    "\n",
    "\n",
    "\n",
    "\n",
    "\n",
    "\n"
   ]
  },
  {
   "cell_type": "code",
   "execution_count": 31,
   "metadata": {
    "id": "k_7pvHLZ9dFe"
   },
   "outputs": [],
   "source": [
    "# Create an empty canvas\n",
    "PillarMatrix = Device('Pillarmatrix')"
   ]
  },
  {
   "cell_type": "code",
   "execution_count": 32,
   "metadata": {
    "id": "sE0qCG-09dFf",
    "outputId": "a5e3f318-3049-4bca-8f75-c93b73d4ccf0"
   },
   "outputs": [
    {
     "data": {
      "text/plain": [
       "<phidl.quickplotter.Viewer at 0x23185d27040>"
      ]
     },
     "execution_count": 32,
     "metadata": {},
     "output_type": "execute_result"
    }
   ],
   "source": [
    "# Create a circle shape (units are in microns)\n",
    "C = pg.ellipse(radii = (2,.5),angle_resolution = (.5), layer = 0)\n",
    "\n",
    "# Create a matrix of circles and add the matrix onto the canvas\n",
    "PillarMatrix.add_array(C, columns, rows,  spacing = (pitch_x, pitch_y))\n",
    "text1 = PillarMatrix.add_ref(T)\n",
    "text1.movey(-13)\n",
    "text1.movex(-2)\n",
    "\n",
    "\n",
    "qp(PillarMatrix)  #Plot the matrix (if required)\n"
   ]
  },
  {
   "cell_type": "code",
   "execution_count": null,
   "metadata": {},
   "outputs": [],
   "source": []
  }
 ],
 "metadata": {
  "colab": {
   "name": "20220228_Just Nanopillars_SRS_Wafer.ipynb",
   "provenance": []
  },
  "kernelspec": {
   "display_name": "Python 3 (ipykernel)",
   "language": "python",
   "name": "python3"
  },
  "language_info": {
   "codemirror_mode": {
    "name": "ipython",
    "version": 3
   },
   "file_extension": ".py",
   "mimetype": "text/x-python",
   "name": "python",
   "nbconvert_exporter": "python",
   "pygments_lexer": "ipython3",
   "version": "3.9.12"
  }
 },
 "nbformat": 4,
 "nbformat_minor": 1
}
