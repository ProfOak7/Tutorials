{
 "cells": [
  {
   "cell_type": "code",
   "execution_count": 1,
   "id": "e851ea7c",
   "metadata": {},
   "outputs": [],
   "source": [
    "#Variables can store numbers and strings etc. and can be assigned using the equal sign (=)\n",
    "\n",
    "codon = \"AGC\"\n",
    "dna_sequence = \"GATTACAGATTACAGTCGTACGACTAGCATCGACTAGCATCAGCATCGACTACGATCAGCATAGCACGAGCACGAGCAATTTTT\"\n"
   ]
  },
  {
   "cell_type": "code",
   "execution_count": 5,
   "id": "be1697c8",
   "metadata": {},
   "outputs": [
    {
     "data": {
      "text/plain": [
       "'AGCAGCAGCAGCAGCAGCAGCAGCAGCAGCAGCAGCAGCAGCAGCAGCAGCAGCAGCAGCAGCAGCAGCAGCAGCAGCAGCAGCAGCAGCAGCAGCAGCAGCAGCAGCAGCAGCAGCAGCAGCAGCAGCAGCAGCAGCAGCAGCAGCAGCAGCAGCAGCAGCAGCAGCAGCAGCAGCAGCAGCAGCAGCAGCAGCAGCAGCAGCAGCAGCAGCAGCAGCAGCAGCAGCAGCAGCAGCAGCAGCAGCAGCAGCAGCAGCAGCAGCAGCAGCAGCAGCAGCAGCAGCAGCAGCAGCAGCAGCGATTACAGATTACAGTCGTACGACTAGCATCGACTAGCATCAGCATCGACTACGATCAGCATAGCACGAGCACGAGCAATTTTTGATTACAGATTACAGTCGTACGACTAGCATCGACTAGCATCAGCATCGACTACGATCAGCATAGCACGAGCACGAGCAATTTTTGATTACAGATTACAGTCGTACGACTAGCATCGACTAGCATCAGCATCGACTACGATCAGCATAGCACGAGCACGAGCAATTTTTGATTACAGATTACAGTCGTACGACTAGCATCGACTAGCATCAGCATCGACTACGATCAGCATAGCACGAGCACGAGCAATTTTTGATTACAGATTACAGTCGTACGACTAGCATCGACTAGCATCAGCATCGACTACGATCAGCATAGCACGAGCACGAGCAATTTTTGATTACAGATTACAGTCGTACGACTAGCATCGACTAGCATCAGCATCGACTACGATCAGCATAGCACGAGCACGAGCAATTTTTGATTACAGATTACAGTCGTACGACTAGCATCGACTAGCATCAGCATCGACTACGATCAGCATAGCACGAGCACGAGCAATTTTTGATTACAGATTACAGTCGTACGACTAGCATCGACTAGCATCAGCATCGACTACGATCAGCATAGCACGAGCACGAGCAATTTTTGATTACAGATTACAGTCGTACGACTAGCATCGACTAGCATCAGCATCGACTACGATCAGCATAGCACGAGCACGAGCAATTTTTGATTACAGATTACAGTCGTACGACTAGCATCGACTAGCATCAGCATCGACTACGATCAGCATAGCACGAGCACGAGCAATTTTT'"
      ]
     },
     "execution_count": 5,
     "metadata": {},
     "output_type": "execute_result"
    }
   ],
   "source": [
    "codon*100 + dna_sequence*10"
   ]
  },
  {
   "cell_type": "code",
   "execution_count": 23,
   "id": "0c65ff6f",
   "metadata": {},
   "outputs": [
    {
     "data": {
      "text/plain": [
       "4"
      ]
     },
     "execution_count": 23,
     "metadata": {},
     "output_type": "execute_result"
    }
   ],
   "source": [
    "a = 4\n",
    "a"
   ]
  },
  {
   "cell_type": "code",
   "execution_count": 24,
   "id": "43602e0d",
   "metadata": {},
   "outputs": [
    {
     "data": {
      "text/plain": [
       "7"
      ]
     },
     "execution_count": 24,
     "metadata": {},
     "output_type": "execute_result"
    }
   ],
   "source": [
    "#We can also increase the value of a variable\n",
    "a = a + 3\n",
    "a"
   ]
  },
  {
   "cell_type": "code",
   "execution_count": 25,
   "id": "28477313",
   "metadata": {},
   "outputs": [
    {
     "data": {
      "text/plain": [
       "10"
      ]
     },
     "execution_count": 25,
     "metadata": {},
     "output_type": "execute_result"
    }
   ],
   "source": [
    "#This is a shorthand way to write a = a + 3\n",
    "a += 3\n",
    "a"
   ]
  },
  {
   "cell_type": "code",
   "execution_count": 26,
   "id": "68ec0fcb",
   "metadata": {},
   "outputs": [
    {
     "data": {
      "text/plain": [
       "7"
      ]
     },
     "execution_count": 26,
     "metadata": {},
     "output_type": "execute_result"
    }
   ],
   "source": [
    "#This is a shorthand way to write a = a - 3\n",
    "a -= 3\n",
    "a"
   ]
  },
  {
   "cell_type": "markdown",
   "id": "86dd7fbe",
   "metadata": {},
   "source": [
    "## Other useful string operators "
   ]
  },
  {
   "cell_type": "code",
   "execution_count": 32,
   "id": "a70d5914",
   "metadata": {},
   "outputs": [
    {
     "data": {
      "text/plain": [
       "'GATTACAGATTACAGTCGTACGACTAGCATCGACTAGCATCAGCATCGACTACGATCAGCATAGCACGAGCACGAGCAATTTTT'"
      ]
     },
     "execution_count": 32,
     "metadata": {},
     "output_type": "execute_result"
    }
   ],
   "source": [
    "dna_sequence"
   ]
  },
  {
   "cell_type": "code",
   "execution_count": 61,
   "id": "8ea9ff62",
   "metadata": {},
   "outputs": [
    {
     "data": {
      "text/plain": [
       "'G'"
      ]
     },
     "execution_count": 61,
     "metadata": {},
     "output_type": "execute_result"
    }
   ],
   "source": [
    "#The first position in a string is 0\n",
    "dna_sequence[0]"
   ]
  },
  {
   "cell_type": "code",
   "execution_count": 62,
   "id": "e90a4b90",
   "metadata": {},
   "outputs": [
    {
     "data": {
      "text/plain": [
       "('G', 'A', 'T', 'T', 'A', 'C', 'A')"
      ]
     },
     "execution_count": 62,
     "metadata": {},
     "output_type": "execute_result"
    }
   ],
   "source": [
    "#The first position in a string is 0 and so on..\n",
    "dna_sequence[0], dna_sequence[1], dna_sequence[2], dna_sequence[3] , dna_sequence[4], dna_sequence[5], dna_sequence[6]"
   ]
  },
  {
   "cell_type": "code",
   "execution_count": 37,
   "id": "e191a030",
   "metadata": {},
   "outputs": [
    {
     "data": {
      "text/plain": [
       "'T'"
      ]
     },
     "execution_count": 37,
     "metadata": {},
     "output_type": "execute_result"
    }
   ],
   "source": [
    "#A negative number will start at the end (furthest to the right) of the string and work its way left\n",
    "dna_sequence[-1]"
   ]
  },
  {
   "cell_type": "code",
   "execution_count": 39,
   "id": "ba389f0d",
   "metadata": {},
   "outputs": [
    {
     "data": {
      "text/plain": [
       "('T', 'T', 'T', 'T', 'T', 'A', 'A')"
      ]
     },
     "execution_count": 39,
     "metadata": {},
     "output_type": "execute_result"
    }
   ],
   "source": [
    "#A negative number will start at the end (furthest to the right) of the string and work its way left\n",
    "dna_sequence[-1], dna_sequence[-2],dna_sequence[-3],dna_sequence[-4],dna_sequence[-5],dna_sequence[-6],dna_sequence[-7]"
   ]
  },
  {
   "cell_type": "code",
   "execution_count": 59,
   "id": "0ffeeff6",
   "metadata": {},
   "outputs": [
    {
     "data": {
      "text/plain": [
       "('GATTACA', 'GATTACA', 'TACAGATTACA')"
      ]
     },
     "execution_count": 59,
     "metadata": {},
     "output_type": "execute_result"
    }
   ],
   "source": [
    "#You can also select just a certain portion of a string by separating with a colon in different ways\n",
    "dna_sequence[0:7], dna_sequence[:7], dna_sequence[3:14]"
   ]
  },
  {
   "cell_type": "code",
   "execution_count": 60,
   "id": "806e8b46",
   "metadata": {},
   "outputs": [
    {
     "data": {
      "text/plain": [
       "('GATTACAGATTACAGTCGTACGACTAGCATCGACTAGCATCAGCATCGACTACGATCAGCATAGCACGAGCACGAGCAATTTTT',\n",
       " 'GCAATTTTT')"
      ]
     },
     "execution_count": 60,
     "metadata": {},
     "output_type": "execute_result"
    }
   ],
   "source": [
    "#If you put the number before the colon, that is where the selected string will start...\n",
    "dna_sequence[0:], dna_sequence[75:]"
   ]
  },
  {
   "cell_type": "code",
   "execution_count": 63,
   "id": "75d4679b",
   "metadata": {},
   "outputs": [
    {
     "data": {
      "text/plain": [
       "84"
      ]
     },
     "execution_count": 63,
     "metadata": {},
     "output_type": "execute_result"
    }
   ],
   "source": [
    "#The built in function len() returns the length of a string\n",
    "len(dna_sequence)"
   ]
  },
  {
   "cell_type": "code",
   "execution_count": 67,
   "id": "b16bad58",
   "metadata": {},
   "outputs": [
    {
     "data": {
      "text/plain": [
       "3"
      ]
     },
     "execution_count": 67,
     "metadata": {},
     "output_type": "execute_result"
    }
   ],
   "source": [
    "#The built in function len() returns the length of a string\n",
    "len(codon)"
   ]
  },
  {
   "cell_type": "code",
   "execution_count": 68,
   "id": "29855da6",
   "metadata": {},
   "outputs": [
    {
     "data": {
      "text/plain": [
       "(3, 84)"
      ]
     },
     "execution_count": 68,
     "metadata": {},
     "output_type": "execute_result"
    }
   ],
   "source": [
    "#The built in function len() returns the length of a string\n",
    "len(codon), len(dna_sequence)"
   ]
  },
  {
   "cell_type": "code",
   "execution_count": 70,
   "id": "478ff8aa",
   "metadata": {},
   "outputs": [
    {
     "data": {
      "text/plain": [
       "21"
      ]
     },
     "execution_count": 70,
     "metadata": {},
     "output_type": "execute_result"
    }
   ],
   "source": [
    "#strings are special, because they can also call methods that can only be performed on them...\n",
    "#For example, I can count how many times \"C\" is in our dna_sequence string....\n",
    "dna_sequence.count('C')"
   ]
  },
  {
   "cell_type": "code",
   "execution_count": 72,
   "id": "528b0231",
   "metadata": {},
   "outputs": [
    {
     "data": {
      "text/plain": [
       "2"
      ]
     },
     "execution_count": 72,
     "metadata": {},
     "output_type": "execute_result"
    }
   ],
   "source": [
    "#I can also count how many times the substring \"GATTACA\" is in our dna_sequence string....\n",
    "dna_sequence.count('GATTACA')"
   ]
  },
  {
   "cell_type": "code",
   "execution_count": 73,
   "id": "d840bfc3",
   "metadata": {},
   "outputs": [
    {
     "data": {
      "text/plain": [
       "'GATTACAGATTACAGTCGTACGACTAGCATCGACTAGCATCAGCATCGACTACGATCAGCATAGCACGAGCACGAGCAATTTTTGATTACAGATTACAGTCGTACGACTAGCATCGACTAGCATCAGCATCGACTACGATCAGCATAGCACGAGCACGAGCAATTTTT'"
      ]
     },
     "execution_count": 73,
     "metadata": {},
     "output_type": "execute_result"
    }
   ],
   "source": [
    "#So I create a new variable that multiplates the string dna_sequence by 2\n",
    "new_dna_sequence = dna_sequence*2\n",
    "new_dna_sequence"
   ]
  },
  {
   "cell_type": "code",
   "execution_count": 75,
   "id": "5894be70",
   "metadata": {
    "scrolled": true
   },
   "outputs": [
    {
     "data": {
      "text/plain": [
       "4"
      ]
     },
     "execution_count": 75,
     "metadata": {},
     "output_type": "execute_result"
    }
   ],
   "source": [
    "#And if I count how many times \"GATTACA\" is in the string, it will now be double...\n",
    "new_dna_sequence.count('GATTACA')"
   ]
  },
  {
   "cell_type": "code",
   "execution_count": 86,
   "id": "8aabf038",
   "metadata": {},
   "outputs": [
    {
     "data": {
      "text/plain": [
       "(84, 168)"
      ]
     },
     "execution_count": 86,
     "metadata": {},
     "output_type": "execute_result"
    }
   ],
   "source": [
    "len(dna_sequence), len(new_dna_sequence)"
   ]
  },
  {
   "cell_type": "code",
   "execution_count": 87,
   "id": "150dffcf",
   "metadata": {},
   "outputs": [
    {
     "data": {
      "text/plain": [
       "'GATTACAGATTACAGTCGTACGACTAGCATCGACTAGCATCAGCATCGACTACGATCAGCATAGCACGAGCACGAGCAATTTTT'"
      ]
     },
     "execution_count": 87,
     "metadata": {},
     "output_type": "execute_result"
    }
   ],
   "source": [
    "dna_sequence"
   ]
  },
  {
   "cell_type": "code",
   "execution_count": 88,
   "id": "51482ce0",
   "metadata": {},
   "outputs": [
    {
     "data": {
      "text/plain": [
       "'gattacagattacagtcgtacgactagcatcgactagcatcagcatcgactacgatcagcatagcacgagcacgagcaattttt'"
      ]
     },
     "execution_count": 88,
     "metadata": {},
     "output_type": "execute_result"
    }
   ],
   "source": [
    "#You can also change the sequence to all upper or lower case very easily\n",
    "dna_sequence.lower()"
   ]
  },
  {
   "cell_type": "code",
   "execution_count": 115,
   "id": "0632a34e",
   "metadata": {},
   "outputs": [
    {
     "data": {
      "text/plain": [
       "'GATTACAGATTACAGTCGTACGACTAGCATCGACTAGCATCAGCATCGACTACGATCAGCATAGCACGAGCACGAGCAATTTTT'"
      ]
     },
     "execution_count": 115,
     "metadata": {},
     "output_type": "execute_result"
    }
   ],
   "source": [
    "#You can also change the sequence to all upper or lower case very easily\n",
    "dna_sequence.upper()"
   ]
  },
  {
   "cell_type": "code",
   "execution_count": 116,
   "id": "8c205284",
   "metadata": {},
   "outputs": [
    {
     "data": {
      "text/plain": [
       "0"
      ]
     },
     "execution_count": 116,
     "metadata": {},
     "output_type": "execute_result"
    }
   ],
   "source": [
    "#You can also find the first occurance of a substring of a string using find\n",
    "dna_sequence.find('GATTACA')"
   ]
  },
  {
   "cell_type": "code",
   "execution_count": 117,
   "id": "ecf80ed9",
   "metadata": {},
   "outputs": [
    {
     "data": {
      "text/plain": [
       "7"
      ]
     },
     "execution_count": 117,
     "metadata": {},
     "output_type": "execute_result"
    }
   ],
   "source": [
    "#You can also find another occurance of a substring of a string using find, the number after the first occurance\n",
    "dna_sequence.find('GATTACA', 1)"
   ]
  },
  {
   "cell_type": "code",
   "execution_count": 118,
   "id": "1b2e25b8",
   "metadata": {
    "scrolled": true
   },
   "outputs": [
    {
     "data": {
      "text/plain": [
       "True"
      ]
     },
     "execution_count": 118,
     "metadata": {},
     "output_type": "execute_result"
    }
   ],
   "source": [
    "#You can check to see whether your string is upper or lower (it will return true or false)\n",
    "dna_sequence.isupper()"
   ]
  },
  {
   "cell_type": "code",
   "execution_count": 119,
   "id": "03543807",
   "metadata": {},
   "outputs": [
    {
     "data": {
      "text/plain": [
       "False"
      ]
     },
     "execution_count": 119,
     "metadata": {},
     "output_type": "execute_result"
    }
   ],
   "source": [
    "#You can check to see whether your string is upper or lower (it will return true or false)\n",
    "dna_sequence.islower()"
   ]
  },
  {
   "cell_type": "code",
   "execution_count": 120,
   "id": "77338051",
   "metadata": {},
   "outputs": [
    {
     "data": {
      "text/plain": [
       "'gATTACAgATTACAgTCgTACgACTAgCATCgACTAgCATCAgCATCgACTACgATCAgCATAgCACgAgCACgAgCAATTTTT'"
      ]
     },
     "execution_count": 120,
     "metadata": {},
     "output_type": "execute_result"
    }
   ],
   "source": [
    "#You can also replace or substitute components of a string\n",
    "dna_sequenceR = dna_sequence.replace('G','g')\n",
    "dna_sequenceR"
   ]
  },
  {
   "cell_type": "code",
   "execution_count": 121,
   "id": "f29dac99",
   "metadata": {
    "scrolled": true
   },
   "outputs": [
    {
     "data": {
      "text/plain": [
       "'GATTACAGATTACAGTCGTACGACTAGCATCGACTAGCATCAGCATCGACTACGATCAGCATAGCACGAGCACGAGCAATTTTT'"
      ]
     },
     "execution_count": 121,
     "metadata": {},
     "output_type": "execute_result"
    }
   ],
   "source": [
    "dna_sequenceU = dna_sequence.upper()\n",
    "dna_sequenceU"
   ]
  },
  {
   "cell_type": "code",
   "execution_count": 123,
   "id": "0db646b4",
   "metadata": {
    "scrolled": true
   },
   "outputs": [
    {
     "data": {
      "text/plain": [
       "'gattacagattacagtcgtacgactagcatcgactagcatcagcatcgactacgatcagcatagcacgagcacgagcaattttt'"
      ]
     },
     "execution_count": 123,
     "metadata": {},
     "output_type": "execute_result"
    }
   ],
   "source": [
    "dna_sequenceL = dna_sequence.lower()\n",
    "dna_sequenceL"
   ]
  },
  {
   "cell_type": "code",
   "execution_count": null,
   "id": "f5fbdfe9",
   "metadata": {},
   "outputs": [],
   "source": []
  }
 ],
 "metadata": {
  "kernelspec": {
   "display_name": "Python 3 (ipykernel)",
   "language": "python",
   "name": "python3"
  },
  "language_info": {
   "codemirror_mode": {
    "name": "ipython",
    "version": 3
   },
   "file_extension": ".py",
   "mimetype": "text/x-python",
   "name": "python",
   "nbconvert_exporter": "python",
   "pygments_lexer": "ipython3",
   "version": "3.9.7"
  }
 },
 "nbformat": 4,
 "nbformat_minor": 5
}
